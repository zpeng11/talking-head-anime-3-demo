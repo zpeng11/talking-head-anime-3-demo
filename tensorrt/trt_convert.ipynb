{
 "cells": [
  {
   "cell_type": "code",
   "execution_count": 1,
   "id": "ac8764cf-ad81-4b1c-8808-c822eb7c54ab",
   "metadata": {},
   "outputs": [],
   "source": [
    "from ctypes import cdll, c_char_p\n",
    "libcudart = cdll.LoadLibrary('cudart64_12.dll')\n",
    "libcudart.cudaGetErrorString.restype = c_char_p\n",
    "def cudaSetDevice(device_idx):\n",
    "    ret = libcudart.cudaSetDevice(device_idx)\n",
    "    if ret != 0:\n",
    "        error_string = libcudart.cudaGetErrorString(ret)\n",
    "        raise RuntimeError(\"cudaSetDevice: \" + error_string)\n",
    "cudaSetDevice(0) #No need but keep this when multi gpu case"
   ]
  },
  {
   "cell_type": "code",
   "execution_count": 2,
   "id": "5f8b5c96-45d0-4b95-9a0d-ecc2ec28d9f4",
   "metadata": {},
   "outputs": [],
   "source": [
    "from trt_utils import *"
   ]
  },
  {
   "cell_type": "code",
   "execution_count": 3,
   "id": "e9f58300-c198-4c73-ba56-527d0c02a876",
   "metadata": {},
   "outputs": [],
   "source": [
    "from os.path import join\n",
    "def convert(sourceDir, dstDir, componentName, dataType):\n",
    "    engine_seri = build_engine(join(sourceDir, componentName+'.onnx'), dataType)\n",
    "    save_engine(engine_seri, join(dstDir, componentName+'.trt'))"
   ]
  },
  {
   "cell_type": "code",
   "execution_count": 4,
   "id": "b8445e21-b794-4242-9b56-26898b6da5a2",
   "metadata": {},
   "outputs": [],
   "source": [
    "convert('../onnx_model/seperable/fp16/', './seperable/fp16/','combiner', 'fp16')\n",
    "convert('../onnx_model/seperable/fp16/', './seperable/fp16/','decomposer', 'fp16')\n",
    "convert('../onnx_model/seperable/fp16/', './seperable/fp16/','editor', 'fp16')\n",
    "convert('../onnx_model/seperable/fp16/', './seperable/fp16/','morpher', 'fp16')\n",
    "convert('../onnx_model/seperable/fp16/', './seperable/fp16/','rotator', 'fp16')\n",
    "\n",
    "convert('../onnx_model/seperable/fp32/', './seperable/fp32/','combiner', 'fp32')\n",
    "convert('../onnx_model/seperable/fp32/', './seperable/fp32/','decomposer', 'fp32')\n",
    "convert('../onnx_model/seperable/fp32/', './seperable/fp32/','editor', 'fp32')\n",
    "convert('../onnx_model/seperable/fp32/', './seperable/fp32/','morpher', 'fp32')\n",
    "convert('../onnx_model/seperable/fp32/', './seperable/fp32/','rotator', 'fp32')"
   ]
  },
  {
   "cell_type": "code",
   "execution_count": 5,
   "id": "47d09b02-a8dd-49e1-8eab-58b84a28f931",
   "metadata": {},
   "outputs": [],
   "source": [
    "convert('../onnx_model/standard/fp16/', './standard/fp16/','combiner', 'fp16')\n",
    "convert('../onnx_model/standard/fp16/', './standard/fp16/','decomposer', 'fp16')\n",
    "convert('../onnx_model/standard/fp16/', './standard/fp16/','editor', 'fp16')\n",
    "convert('../onnx_model/standard/fp16/', './standard/fp16/','morpher', 'fp16')\n",
    "convert('../onnx_model/standard/fp16/', './standard/fp16/','rotator', 'fp16')\n",
    "\n",
    "convert('../onnx_model/standard/fp32/', './standard/fp32/','combiner', 'fp32')\n",
    "convert('../onnx_model/standard/fp32/', './standard/fp32/','decomposer', 'fp32')\n",
    "convert('../onnx_model/standard/fp32/', './standard/fp32/','editor', 'fp32')\n",
    "convert('../onnx_model/standard/fp32/', './standard/fp32/','morpher', 'fp32')\n",
    "convert('../onnx_model/standard/fp32/', './standard/fp32/','rotator', 'fp32')"
   ]
  },
  {
   "cell_type": "code",
   "execution_count": 6,
   "id": "eaf73491-2458-40ad-8dab-23fe1032b24e",
   "metadata": {},
   "outputs": [],
   "source": [
    "import onnxruntime as ort\n",
    "providers = [(\"CUDAExecutionProvider\", {\"device_id\": 0, #torch.cuda.current_device(),\n",
    "                                        \"user_compute_stream\": str(int(cuda.Stream().handle))})]\n",
    "sess_options = ort.SessionOptions()\n",
    "def testVerify(sourceDir, dstDir, componentName, dataType, inputNames, inputShapes):\n",
    "    if dataType == 'fp16':\n",
    "        dtype = np.float16  \n",
    "    elif dataType == 'fp32':\n",
    "        dtype = np.float32\n",
    "    else:\n",
    "        dtype = np.int8\n",
    "\n",
    "    engine = load_engine(join(dstDir, componentName+'.trt'))\n",
    "    proc = Processor(engine, len(inputNames))\n",
    "    ort_sess = ort.InferenceSession(join(sourceDir, componentName+'.onnx'), sess_options=sess_options, providers=providers)\n",
    "\n",
    "    for i in range(5):\n",
    "        inputs = [np.random.rand(*shape).astype(dtype) for shape in inputShapes]\n",
    "        input_dict = {k:v for k,v in zip(inputNames,inputs)}\n",
    "        \n",
    "        trt_res = proc.inference(inputs)\n",
    "        onnx_res = ort_sess.run(None,input_dict)\n",
    "        for i in range(len(trt_res)):\n",
    "            print(dataType+\" [\"+str(i)+\"] MSE is: \",((trt_res[i] - onnx_res[i]) ** 2).mean())"
   ]
  },
  {
   "cell_type": "code",
   "execution_count": 7,
   "id": "c535a3b3-f976-45d5-8303-ede6f73baa77",
   "metadata": {
    "scrolled": true
   },
   "outputs": [
    {
     "name": "stdout",
     "output_type": "stream",
     "text": [
      "Decomposer:\n",
      "fp32 [0] MSE is:  5.5564864e-09\n",
      "fp32 [1] MSE is:  5.6317884e-09\n",
      "fp32 [0] MSE is:  1.8512889e-09\n",
      "fp32 [1] MSE is:  2.6791607e-11\n",
      "fp32 [0] MSE is:  3.3631946e-09\n",
      "fp32 [1] MSE is:  9.647969e-10\n",
      "fp32 [0] MSE is:  5.430127e-09\n",
      "fp32 [1] MSE is:  9.04328e-09\n",
      "fp32 [0] MSE is:  2.6379228e-09\n",
      "fp32 [1] MSE is:  3.1235996e-09\n",
      "fp16 [0] MSE is:  6e-08\n",
      "fp16 [1] MSE is:  0.0\n",
      "fp16 [0] MSE is:  6e-08\n",
      "fp16 [1] MSE is:  6e-08\n",
      "fp16 [0] MSE is:  6e-08\n",
      "fp16 [1] MSE is:  0.0\n",
      "fp16 [0] MSE is:  6e-08\n",
      "fp16 [1] MSE is:  2e-07\n",
      "fp16 [0] MSE is:  6e-08\n",
      "fp16 [1] MSE is:  0.0\n",
      "Combiner:\n",
      "fp32 [0] MSE is:  1.6824368e-06\n",
      "fp32 [1] MSE is:  1.7882407e-05\n",
      "fp32 [0] MSE is:  2.1098022e-06\n",
      "fp32 [1] MSE is:  2.4393868e-05\n",
      "fp32 [0] MSE is:  1.5645966e-06\n",
      "fp32 [1] MSE is:  1.786362e-05\n",
      "fp32 [0] MSE is:  1.0597455e-06\n",
      "fp32 [1] MSE is:  1.1453707e-05\n",
      "fp32 [0] MSE is:  1.8161437e-06\n",
      "fp32 [1] MSE is:  1.8803821e-05\n",
      "fp16 [0] MSE is:  1.84e-05\n",
      "fp16 [1] MSE is:  0.000194\n",
      "fp16 [0] MSE is:  3.064e-05\n",
      "fp16 [1] MSE is:  0.000307\n",
      "fp16 [0] MSE is:  2.87e-05\n",
      "fp16 [1] MSE is:  0.0002892\n",
      "fp16 [0] MSE is:  4.06e-05\n",
      "fp16 [1] MSE is:  0.0004165\n",
      "fp16 [0] MSE is:  2.9e-05\n",
      "fp16 [1] MSE is:  0.0002966\n",
      "Morpher:\n",
      "fp32 [0] MSE is:  5.3517358e-08\n",
      "fp32 [1] MSE is:  1.3502009e-08\n",
      "fp32 [0] MSE is:  1.081798e-07\n",
      "fp32 [1] MSE is:  2.7906252e-08\n",
      "fp32 [0] MSE is:  6.655916e-08\n",
      "fp32 [1] MSE is:  1.672159e-08\n",
      "fp32 [0] MSE is:  7.0671376e-08\n",
      "fp32 [1] MSE is:  1.753911e-08\n",
      "fp32 [0] MSE is:  7.634186e-08\n",
      "fp32 [1] MSE is:  1.825136e-08\n",
      "fp16 [0] MSE is:  8.1e-06\n",
      "fp16 [1] MSE is:  2e-06\n",
      "fp16 [0] MSE is:  4.7e-06\n",
      "fp16 [1] MSE is:  1.2e-06\n",
      "fp16 [0] MSE is:  4.3e-06\n",
      "fp16 [1] MSE is:  1e-06\n",
      "fp16 [0] MSE is:  4.35e-06\n",
      "fp16 [1] MSE is:  1.13e-06\n",
      "fp16 [0] MSE is:  7.87e-06\n",
      "fp16 [1] MSE is:  1.97e-06\n",
      "Rotator:\n",
      "fp32 [0] MSE is:  1.7057226e-05\n",
      "fp32 [1] MSE is:  1.458696e-08\n",
      "fp32 [0] MSE is:  1.7420887e-05\n",
      "fp32 [1] MSE is:  1.3664479e-08\n",
      "fp32 [0] MSE is:  1.4293901e-05\n",
      "fp32 [1] MSE is:  1.0707101e-08\n",
      "fp32 [0] MSE is:  1.4933795e-05\n",
      "fp32 [1] MSE is:  1.0552443e-08\n",
      "fp32 [0] MSE is:  1.6047577e-05\n",
      "fp32 [1] MSE is:  1.1771535e-08\n",
      "fp16 [0] MSE is:  0.0002309\n",
      "fp16 [1] MSE is:  2e-07\n",
      "fp16 [0] MSE is:  0.0003495\n",
      "fp16 [1] MSE is:  2.4e-07\n",
      "fp16 [0] MSE is:  0.0002744\n",
      "fp16 [1] MSE is:  2e-07\n",
      "fp16 [0] MSE is:  0.0002992\n",
      "fp16 [1] MSE is:  2.4e-07\n",
      "fp16 [0] MSE is:  0.0001965\n",
      "fp16 [1] MSE is:  1e-07\n",
      "Editor:\n",
      "fp32 [0] MSE is:  5.3019635e-06\n",
      "fp32 [0] MSE is:  3.6224512e-06\n",
      "fp32 [0] MSE is:  3.4382351e-06\n",
      "fp32 [0] MSE is:  5.057365e-06\n",
      "fp32 [0] MSE is:  4.0221353e-06\n",
      "fp16 [0] MSE is:  0.0001441\n",
      "fp16 [0] MSE is:  0.000138\n",
      "fp16 [0] MSE is:  0.0001264\n",
      "fp16 [0] MSE is:  0.0001405\n",
      "fp16 [0] MSE is:  0.0001476\n"
     ]
    }
   ],
   "source": [
    "print(\"Decomposer:\")\n",
    "decomposer_input_names = ['input_image']\n",
    "decomposer_input_shapes = [(1,4,512,512)]\n",
    "testVerify('../onnx_model/seperable/fp32/', './seperable/fp32/','decomposer', 'fp32', decomposer_input_names, decomposer_input_shapes)\n",
    "testVerify('../onnx_model/seperable/fp16/', './seperable/fp16/','decomposer', 'fp16', decomposer_input_names, decomposer_input_shapes)\n",
    "\n",
    "print(\"Combiner:\")\n",
    "combiner_input_names = ['input_image','eyebrow_background_layer', \"eyebrow_layer\", 'eyebrow_pose']\n",
    "combiner_input_shapes = [(1,4,512,512), (1,4,128,128), (1,4,128,128), (1,12)]\n",
    "testVerify('../onnx_model/seperable/fp32/', './seperable/fp32/','combiner', 'fp32', combiner_input_names, combiner_input_shapes)\n",
    "testVerify('../onnx_model/seperable/fp16/', './seperable/fp16/','combiner', 'fp16', combiner_input_names, combiner_input_shapes)\n",
    "\n",
    "print(\"Morpher:\")\n",
    "morpher_input_names = ['input_image', 'im_morpher_crop', 'face_pose', '/face_morpher/body/downsample_blocks.3/downsample_blocks.3.3/Relu_output_0']\n",
    "morpher_input_shapes = [(1,4,512,512), (1,4,192,192), (1,27), (1,512,24,24)]\n",
    "testVerify('../onnx_model/seperable/fp32/', './seperable/fp32/','morpher', 'fp32', morpher_input_names, morpher_input_shapes)\n",
    "testVerify('../onnx_model/seperable/fp16/', './seperable/fp16/','morpher', 'fp16', morpher_input_names, morpher_input_shapes)\n",
    "\n",
    "print(\"Rotator:\")\n",
    "rotator_input_shapes = [(1,4,256,256), (1,6)]\n",
    "rotator_input_names = ['face_morphed_half', 'rotation_pose']\n",
    "testVerify('../onnx_model/seperable/fp32/', './seperable/fp32/','rotator', 'fp32', rotator_input_names, rotator_input_shapes)\n",
    "testVerify('../onnx_model/seperable/fp16/', './seperable/fp16/','rotator', 'fp16', rotator_input_names, rotator_input_shapes)\n",
    "\n",
    "print(\"Editor:\")\n",
    "editor_input_shapes = [(1,4,512,512), (1,4,512,512), (1,2,512,512), (1,6)]\n",
    "editor_input_names = ['morphed_image', 'rotated_warped_image','rotated_grid_change','rotation_pose']\n",
    "testVerify('../onnx_model/seperable/fp32/', './seperable/fp32/','editor', 'fp32', editor_input_names, editor_input_shapes)\n",
    "testVerify('../onnx_model/seperable/fp16/', './seperable/fp16/','editor', 'fp16', editor_input_names, editor_input_shapes)"
   ]
  },
  {
   "cell_type": "code",
   "execution_count": 8,
   "id": "8e73b15a-6fa5-4cab-9724-0ed99fe6d655",
   "metadata": {
    "scrolled": true
   },
   "outputs": [
    {
     "name": "stdout",
     "output_type": "stream",
     "text": [
      "Decomposer:\n",
      "fp32 [0] MSE is:  1.0812705e-10\n",
      "fp32 [1] MSE is:  1.1684789e-12\n",
      "fp32 [0] MSE is:  2.3819308e-10\n",
      "fp32 [1] MSE is:  8.095282e-10\n",
      "fp32 [0] MSE is:  3.5907755e-12\n",
      "fp32 [1] MSE is:  2.4184487e-12\n",
      "fp32 [0] MSE is:  2.499066e-11\n",
      "fp32 [1] MSE is:  6.815441e-14\n",
      "fp32 [0] MSE is:  1.7270113e-12\n",
      "fp32 [1] MSE is:  4.1523317e-15\n",
      "fp16 [0] MSE is:  0.0\n",
      "fp16 [1] MSE is:  0.0\n",
      "fp16 [0] MSE is:  0.0\n",
      "fp16 [1] MSE is:  0.0\n",
      "fp16 [0] MSE is:  0.0\n",
      "fp16 [1] MSE is:  0.0\n",
      "fp16 [0] MSE is:  1e-07\n",
      "fp16 [1] MSE is:  0.0\n",
      "fp16 [0] MSE is:  0.0\n",
      "fp16 [1] MSE is:  0.0\n",
      "Combiner:\n",
      "fp32 [0] MSE is:  2.1398036e-07\n",
      "fp32 [1] MSE is:  8.430146e-07\n",
      "fp32 [0] MSE is:  8.6369944e-08\n",
      "fp32 [1] MSE is:  3.10355e-07\n",
      "fp32 [0] MSE is:  9.717198e-08\n",
      "fp32 [1] MSE is:  3.9280366e-07\n",
      "fp32 [0] MSE is:  9.082552e-08\n",
      "fp32 [1] MSE is:  4.425158e-07\n",
      "fp32 [0] MSE is:  3.4650296e-07\n",
      "fp32 [1] MSE is:  1.5518996e-06\n",
      "fp16 [0] MSE is:  1.496e-05\n",
      "fp16 [1] MSE is:  6.37e-05\n",
      "fp16 [0] MSE is:  1.73e-05\n",
      "fp16 [1] MSE is:  8.11e-05\n",
      "fp16 [0] MSE is:  1.526e-05\n",
      "fp16 [1] MSE is:  6.014e-05\n",
      "fp16 [0] MSE is:  1.24e-05\n",
      "fp16 [1] MSE is:  5.2e-05\n",
      "fp16 [0] MSE is:  3.13e-05\n",
      "fp16 [1] MSE is:  0.0001413\n",
      "Morpher:\n",
      "fp32 [0] MSE is:  3.5765921e-09\n",
      "fp32 [1] MSE is:  8.871165e-10\n",
      "fp32 [0] MSE is:  2.6941778e-09\n",
      "fp32 [1] MSE is:  7.078585e-10\n",
      "fp32 [0] MSE is:  3.508776e-09\n",
      "fp32 [1] MSE is:  9.318671e-10\n",
      "fp32 [0] MSE is:  2.9126879e-09\n",
      "fp32 [1] MSE is:  7.94155e-10\n",
      "fp32 [0] MSE is:  3.1370049e-09\n",
      "fp32 [1] MSE is:  7.8520945e-10\n",
      "fp16 [0] MSE is:  9.6e-06\n",
      "fp16 [1] MSE is:  2.4e-06\n",
      "fp16 [0] MSE is:  1.097e-05\n",
      "fp16 [1] MSE is:  2.8e-06\n",
      "fp16 [0] MSE is:  1.28e-05\n",
      "fp16 [1] MSE is:  3.2e-06\n",
      "fp16 [0] MSE is:  9.3e-06\n",
      "fp16 [1] MSE is:  2.3e-06\n",
      "fp16 [0] MSE is:  9.54e-06\n",
      "fp16 [1] MSE is:  2.3e-06\n",
      "Rotator:\n",
      "fp32 [0] MSE is:  1.7541685e-06\n",
      "fp32 [1] MSE is:  2.2386226e-09\n",
      "fp32 [0] MSE is:  1.9146378e-06\n",
      "fp32 [1] MSE is:  4.791317e-09\n",
      "fp32 [0] MSE is:  2.4487504e-06\n",
      "fp32 [1] MSE is:  5.4871436e-09\n",
      "fp32 [0] MSE is:  1.6232232e-06\n",
      "fp32 [1] MSE is:  2.0208648e-09\n",
      "fp32 [0] MSE is:  1.8690143e-06\n",
      "fp32 [1] MSE is:  2.9528857e-09\n",
      "fp16 [0] MSE is:  0.0003595\n",
      "fp16 [1] MSE is:  1.4e-06\n",
      "fp16 [0] MSE is:  0.000666\n",
      "fp16 [1] MSE is:  1.9e-06\n",
      "fp16 [0] MSE is:  0.000369\n",
      "fp16 [1] MSE is:  1.55e-06\n",
      "fp16 [0] MSE is:  0.0002985\n",
      "fp16 [1] MSE is:  1.1e-06\n",
      "fp16 [0] MSE is:  0.0005093\n",
      "fp16 [1] MSE is:  1.2e-06\n",
      "Editor:\n",
      "fp32 [0] MSE is:  3.790076e-07\n",
      "fp32 [0] MSE is:  3.5797456e-07\n",
      "fp32 [0] MSE is:  5.305127e-07\n",
      "fp32 [0] MSE is:  2.8339036e-07\n",
      "fp32 [0] MSE is:  3.251371e-07\n",
      "fp16 [0] MSE is:  0.000585\n",
      "fp16 [0] MSE is:  0.0006638\n",
      "fp16 [0] MSE is:  0.0005083\n",
      "fp16 [0] MSE is:  0.0005684\n",
      "fp16 [0] MSE is:  0.00053\n"
     ]
    }
   ],
   "source": [
    "print(\"Decomposer:\")\n",
    "decomposer_input_names = ['input_image']\n",
    "decomposer_input_shapes = [(1,4,512,512)]\n",
    "testVerify('../onnx_model/standard/fp32/', './standard/fp32/','decomposer', 'fp32', decomposer_input_names, decomposer_input_shapes)\n",
    "testVerify('../onnx_model/standard/fp16/', './standard/fp16/','decomposer', 'fp16', decomposer_input_names, decomposer_input_shapes)\n",
    "\n",
    "print(\"Combiner:\")\n",
    "combiner_input_names = ['input_image','eyebrow_background_layer', \"eyebrow_layer\", 'eyebrow_pose']\n",
    "combiner_input_shapes = [(1,4,512,512), (1,4,128,128), (1,4,128,128), (1,12)]\n",
    "testVerify('../onnx_model/standard/fp32/', './standard/fp32/','combiner', 'fp32', combiner_input_names, combiner_input_shapes)\n",
    "testVerify('../onnx_model/standard/fp16/', './standard/fp16/','combiner', 'fp16', combiner_input_names, combiner_input_shapes)\n",
    "\n",
    "print(\"Morpher:\")\n",
    "morpher_input_names = ['input_image', 'im_morpher_crop', 'face_pose', '/face_morpher/downsample_blocks.3/downsample_blocks.3.2/Relu_output_0']\n",
    "morpher_input_shapes = [(1,4,512,512), (1,4,192,192), (1,27), (1,512,24,24)]\n",
    "testVerify('../onnx_model/standard/fp32/', './standard/fp32/','morpher', 'fp32', morpher_input_names, morpher_input_shapes)\n",
    "testVerify('../onnx_model/standard/fp16/', './standard/fp16/','morpher', 'fp16', morpher_input_names, morpher_input_shapes)\n",
    "\n",
    "print(\"Rotator:\")\n",
    "rotator_input_shapes = [(1,4,256,256), (1,6)]\n",
    "rotator_input_names = ['face_morphed_half', 'rotation_pose']\n",
    "testVerify('../onnx_model/standard/fp32/', './standard/fp32/','rotator', 'fp32', rotator_input_names, rotator_input_shapes)\n",
    "testVerify('../onnx_model/standard/fp16/', './standard/fp16/','rotator', 'fp16', rotator_input_names, rotator_input_shapes)\n",
    "\n",
    "print(\"Editor:\")\n",
    "editor_input_shapes = [(1,4,512,512), (1,4,512,512), (1,2,512,512), (1,6)]\n",
    "editor_input_names = ['morphed_image', 'rotated_warped_image','rotated_grid_change','rotation_pose']\n",
    "testVerify('../onnx_model/standard/fp32/', './standard/fp32/','editor', 'fp32', editor_input_names, editor_input_shapes)\n",
    "testVerify('../onnx_model/standard/fp16/', './standard/fp16/','editor', 'fp16', editor_input_names, editor_input_shapes)"
   ]
  },
  {
   "cell_type": "code",
   "execution_count": 10,
   "id": "e71abebf-afa9-4e22-95b4-ad7516a1924c",
   "metadata": {
    "scrolled": true
   },
   "outputs": [
    {
     "name": "stdout",
     "output_type": "stream",
     "text": [
      "Standard 32\n"
     ]
    },
    {
     "name": "stderr",
     "output_type": "stream",
     "text": [
      "100%|████████████████████████████████████████████████████████████████████████████| 10000/10000 [02:25<00:00, 68.87it/s]\n"
     ]
    },
    {
     "name": "stdout",
     "output_type": "stream",
     "text": [
      "Standard 16\n"
     ]
    },
    {
     "name": "stderr",
     "output_type": "stream",
     "text": [
      "100%|███████████████████████████████████████████████████████████████████████████| 10000/10000 [01:13<00:00, 135.89it/s]\n"
     ]
    },
    {
     "name": "stdout",
     "output_type": "stream",
     "text": [
      "seperable 32\n"
     ]
    },
    {
     "name": "stderr",
     "output_type": "stream",
     "text": [
      "100%|███████████████████████████████████████████████████████████████████████████| 10000/10000 [01:26<00:00, 115.97it/s]\n"
     ]
    },
    {
     "name": "stdout",
     "output_type": "stream",
     "text": [
      "seperable 16\n"
     ]
    },
    {
     "name": "stderr",
     "output_type": "stream",
     "text": [
      "100%|███████████████████████████████████████████████████████████████████████████| 10000/10000 [00:56<00:00, 175.73it/s]\n"
     ]
    }
   ],
   "source": [
    "editor_s32 = Processor(load_engine(join('./standard/fp32/', 'editor.trt')), 4)\n",
    "editor_s16 = Processor(load_engine(join('./standard/fp16/', 'editor.trt')), 4)\n",
    "editor_d32 = Processor(load_engine(join('./seperable/fp32/', 'editor.trt')), 4)\n",
    "editor_d16 = Processor(load_engine(join('./seperable/fp16/', 'editor.trt')), 4)\n",
    "for i in range(100):\n",
    "    editor_s32.kickoff()\n",
    "    editor_s16.kickoff()\n",
    "    editor_d32.kickoff()\n",
    "    editor_d16.kickoff()\n",
    "\n",
    "from tqdm import tqdm\n",
    "\n",
    "print('Standard 32')\n",
    "for i in tqdm(range(10000)):\n",
    "    editor_s32.kickoff()\n",
    "\n",
    "print('Standard 16')\n",
    "for i in tqdm(range(10000)):\n",
    "    editor_s16.kickoff()\n",
    "\n",
    "print('seperable 32')\n",
    "for i in tqdm(range(10000)):\n",
    "    editor_d32.kickoff()\n",
    "\n",
    "print('seperable 16')\n",
    "for i in tqdm(range(10000)):\n",
    "    editor_d16.kickoff()"
   ]
  },
  {
   "cell_type": "code",
   "execution_count": 18,
   "id": "b8a0349f-c0be-420d-84b5-6c8a476cfde3",
   "metadata": {},
   "outputs": [],
   "source": [
    "def fullbench(model_dir, dtype, iters = 100000):\n",
    "    decomposer_engine = load_engine(join(model_dir, 'decomposer.trt'))\n",
    "    decomposer_proc = Processor(decomposer_engine, 4)\n",
    "    \n",
    "    combiner_engine = load_engine(join(model_dir, 'combiner.trt'))\n",
    "    combiner_proc = Processor(combiner_engine, 4)\n",
    "    \n",
    "    morpher_engine = load_engine(join(model_dir, 'morpher.trt'))\n",
    "    morpher_proc = Processor(morpher_engine, 4)\n",
    "    \n",
    "    rotator_engine = load_engine(join(model_dir, 'rotator.trt'))\n",
    "    rotator_proc = Processor(rotator_engine, 2)\n",
    "    \n",
    "    editor_engine = load_engine(join(model_dir, 'editor.trt'))\n",
    "    editor_proc = Processor(editor_engine, 2)\n",
    "\n",
    "    for i in range(100): #preheat\n",
    "        combiner_proc.kickoff()\n",
    "        morpher_proc.kickoff()\n",
    "        rotator_proc.kickoff()\n",
    "        editor_proc.kickoff()\n",
    "    \n",
    "    for i in tqdm(range(iters)):\n",
    "        if i % 15 == 0:\n",
    "            combiner_proc.kickoff()\n",
    "        morpher_proc.kickoff()\n",
    "        rotator_proc.kickoff()\n",
    "        editor_proc.kickoff()"
   ]
  },
  {
   "cell_type": "code",
   "execution_count": 19,
   "id": "1d964420-9e15-4cfb-98da-7a39b31782a2",
   "metadata": {},
   "outputs": [
    {
     "name": "stderr",
     "output_type": "stream",
     "text": [
      "100%|██████████████████████████████████████████████████████████████████████████████| 1000/1000 [00:30<00:00, 32.41it/s]\n"
     ]
    }
   ],
   "source": [
    "fullbench('./standard/fp32/', np.float32, 1000)"
   ]
  },
  {
   "cell_type": "code",
   "execution_count": 20,
   "id": "e426433a-5bfb-4618-ba13-9e23c2fc849c",
   "metadata": {},
   "outputs": [
    {
     "name": "stderr",
     "output_type": "stream",
     "text": [
      "100%|██████████████████████████████████████████████████████████████████████████████| 1000/1000 [00:13<00:00, 72.38it/s]\n"
     ]
    }
   ],
   "source": [
    "fullbench('./standard/fp16/', np.float16, 1000)"
   ]
  },
  {
   "cell_type": "code",
   "execution_count": 21,
   "id": "84ae7a6d-7baa-49c8-b4b5-423894ea09fe",
   "metadata": {},
   "outputs": [
    {
     "name": "stderr",
     "output_type": "stream",
     "text": [
      "100%|██████████████████████████████████████████████████████████████████████████████| 1000/1000 [00:15<00:00, 62.56it/s]\n"
     ]
    }
   ],
   "source": [
    "fullbench('./seperable/fp32/', np.float32, 1000)"
   ]
  },
  {
   "cell_type": "code",
   "execution_count": 22,
   "id": "4e07703a-53b8-4869-90e8-57668ccdd5e0",
   "metadata": {},
   "outputs": [
    {
     "name": "stderr",
     "output_type": "stream",
     "text": [
      "100%|██████████████████████████████████████████████████████████████████████████████| 1000/1000 [00:10<00:00, 93.45it/s]\n"
     ]
    }
   ],
   "source": [
    "fullbench('./seperable/fp16/', np.float16, 1000)"
   ]
  }
 ],
 "metadata": {
  "kernelspec": {
   "display_name": "Python 3 (ipykernel)",
   "language": "python",
   "name": "python3"
  },
  "language_info": {
   "codemirror_mode": {
    "name": "ipython",
    "version": 3
   },
   "file_extension": ".py",
   "mimetype": "text/x-python",
   "name": "python",
   "nbconvert_exporter": "python",
   "pygments_lexer": "ipython3",
   "version": "3.8.20"
  }
 },
 "nbformat": 4,
 "nbformat_minor": 5
}
