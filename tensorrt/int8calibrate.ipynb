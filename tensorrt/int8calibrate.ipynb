{
 "cells": [
  {
   "cell_type": "code",
   "execution_count": 5,
   "id": "ce1d5b06-d7bd-447c-a926-1795744b6a5c",
   "metadata": {},
   "outputs": [
    {
     "ename": "TypeError",
     "evalue": "__init__(): incompatible constructor arguments. The following argument types are supported:\n    1. tensorrt.tensorrt.IInt8EntropyCalibrator2()\n\nInvoked with: None",
     "output_type": "error",
     "traceback": [
      "\u001b[1;31m---------------------------------------------------------------------------\u001b[0m",
      "\u001b[1;31mTypeError\u001b[0m                                 Traceback (most recent call last)",
      "Cell \u001b[1;32mIn[5], line 12\u001b[0m\n\u001b[0;32m      7\u001b[0m \u001b[38;5;28;01mimport\u001b[39;00m \u001b[38;5;21;01mtensorrt\u001b[39;00m \u001b[38;5;28;01mas\u001b[39;00m \u001b[38;5;21;01mtrt\u001b[39;00m\n\u001b[0;32m      9\u001b[0m \u001b[38;5;66;03m# sys.path.insert(1, os.path.join(os.path.dirname(os.path.realpath(__file__)), os.pardir))\u001b[39;00m\n\u001b[0;32m     10\u001b[0m \u001b[38;5;66;03m# import common\u001b[39;00m\n\u001b[1;32m---> 12\u001b[0m \u001b[43mtrt\u001b[49m\u001b[38;5;241;43m.\u001b[39;49m\u001b[43mIInt8EntropyCalibrator2\u001b[49m\u001b[43m(\u001b[49m\u001b[38;5;28;43;01mNone\u001b[39;49;00m\u001b[43m)\u001b[49m\n",
      "\u001b[1;31mTypeError\u001b[0m: __init__(): incompatible constructor arguments. The following argument types are supported:\n    1. tensorrt.tensorrt.IInt8EntropyCalibrator2()\n\nInvoked with: None"
     ]
    }
   ],
   "source": [
    "import os\n",
    "import sys\n",
    "import logging\n",
    "import argparse\n",
    "\n",
    "import numpy as np\n",
    "import tensorrt as trt\n",
    "\n",
    "# sys.path.insert(1, os.path.join(os.path.dirname(os.path.realpath(__file__)), os.pardir))\n",
    "# import common\n",
    "\n",
    "trt.IInt8EntropyCalibrator2(None)"
   ]
  }
 ],
 "metadata": {
  "kernelspec": {
   "display_name": "Python 3 (ipykernel)",
   "language": "python",
   "name": "python3"
  },
  "language_info": {
   "codemirror_mode": {
    "name": "ipython",
    "version": 3
   },
   "file_extension": ".py",
   "mimetype": "text/x-python",
   "name": "python",
   "nbconvert_exporter": "python",
   "pygments_lexer": "ipython3",
   "version": "3.8.20"
  }
 },
 "nbformat": 4,
 "nbformat_minor": 5
}
