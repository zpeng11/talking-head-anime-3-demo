{
 "cells": [
  {
   "cell_type": "code",
   "execution_count": 1,
   "id": "874fd12e-e3e3-43ae-940b-6b484e236f8d",
   "metadata": {},
   "outputs": [],
   "source": [
    "import argparse\n",
    "from pathlib import Path\n",
    "import sys\n",
    "import os\n",
    "import numpy as np\n",
    "import tensorrt as trt\n",
    "from typing import List, Tuple\n",
    "import pycuda.driver as cuda\n",
    "import pycuda\n",
    "from os.path import join\n",
    "import numpy\n",
    "import pycuda.autoinit"
   ]
  },
  {
   "cell_type": "code",
   "execution_count": 2,
   "id": "f8dba50d-dcdd-44df-adbe-0d0137d45ae2",
   "metadata": {},
   "outputs": [],
   "source": [
    "TRT_LOGGER = trt.Logger(trt.Logger.INFO)\n",
    "def build_engine(onnx_file_path, precision:str):\n",
    "    builder = trt.Builder(TRT_LOGGER)\n",
    "    network = builder.create_network()\n",
    "    config = builder.create_builder_config()\n",
    "    parser = trt.OnnxParser(network, TRT_LOGGER)\n",
    "    # Parse model file\n",
    "    TRT_LOGGER.log(TRT_LOGGER.INFO, f'Loading ONNX file from path {onnx_file_path}...')\n",
    "    with open(onnx_file_path, 'rb') as model:\n",
    "        TRT_LOGGER.log(TRT_LOGGER.INFO, 'Beginning ONNX file parsing')\n",
    "        parse_res = parser.parse(model.read())\n",
    "        if not parse_res:\n",
    "            for error in range(parser.num_errors):\n",
    "                TRT_LOGGER.log(TRT_LOGGER.ERROR, parser.get_error(error))\n",
    "            raise ValueError('Failed to parse the ONNX file.')\n",
    "    TRT_LOGGER.log(TRT_LOGGER.INFO, 'Completed parsing of ONNX file')\n",
    "    TRT_LOGGER.log(TRT_LOGGER.INFO, f'Input number: {network.num_inputs}')\n",
    "    TRT_LOGGER.log(TRT_LOGGER.INFO, f'Output number: {network.num_outputs}')\n",
    "    def GiB(val):\n",
    "        return val * 1 << 30\n",
    "    config.set_memory_pool_limit(trt.MemoryPoolType.WORKSPACE, GiB(1)) # 1G\n",
    "    \n",
    "\n",
    "    if precision == 'fp32':\n",
    "        config.set_flag(trt.BuilderFlag.TF32)\n",
    "    elif precision == 'fp16':\n",
    "        config.set_flag(trt.BuilderFlag.FP16)\n",
    "    else:\n",
    "        raise ValueError('precision must be one of fp32 or fp16')\n",
    "    \n",
    "    TRT_LOGGER.log(TRT_LOGGER.INFO, f'Building an engine from file {onnx_file_path}; this may take a while...')\n",
    "    serialized_engine = builder.build_serialized_network(network, config)\n",
    "    TRT_LOGGER.log(TRT_LOGGER.INFO, 'Completed creating Engine')\n",
    "    return serialized_engine\n",
    "\n",
    "def save_engine(engine, path):\n",
    "    TRT_LOGGER.log(TRT_LOGGER.INFO, f'Saving engine to file {path}')\n",
    "    path = Path(path)\n",
    "    path.parent.mkdir(parents=True, exist_ok=True)\n",
    "    with open(path, 'wb') as f:\n",
    "        f.write(engine)\n",
    "    TRT_LOGGER.log(TRT_LOGGER.INFO, 'Completed saving engine')\n",
    "def load_engine(path):\n",
    "    TRT_LOGGER.log(TRT_LOGGER.WARNING, f'Loading engine from file {path}')\n",
    "    runtime = trt.Runtime(TRT_LOGGER)\n",
    "    with open(path, 'rb') as f:\n",
    "        engine = runtime.deserialize_cuda_engine(f.read())\n",
    "    TRT_LOGGER.log(TRT_LOGGER.INFO, 'Completed loading engine')\n",
    "    return engine\n",
    "\n",
    "#memory management\n",
    "class HostDeviceMem(object):\n",
    "    def __init__(self, host_mem:numpy.ndarray, device_mem: pycuda.driver.DeviceAllocation):\n",
    "        self.host = host_mem\n",
    "        self.device = device_mem\n",
    "\n",
    "    def __str__(self):\n",
    "        return \"Host:\\n\" + str(self.host) + \"\\nDevice:\\n\" + str(self.device)\n",
    "\n",
    "    def __repr__(self):\n",
    "        return self.__str__()\n",
    "    def __del__(self):\n",
    "        self.device.free()\n",
    "    def dtoh(self, stream:pycuda.driver.Stream):\n",
    "        cuda.memcpy_dtoh_async(self.host, self.device, stream) \n",
    "    def htod(self, stream:pycuda.driver.Stream):\n",
    "        cuda.memcpy_htod_async(self.device, self.host, stream)\n",
    "\n",
    "class Processor:\n",
    "    def __init__(self, engine: trt.ICudaEngine, n_input:int):\n",
    "        self.engine = engine\n",
    "        TRT_LOGGER.log(TRT_LOGGER.INFO, 'Creating inference context')\n",
    "        # create execution context\n",
    "        self.context = engine.create_execution_context()\n",
    "        \n",
    "        # get input and output tensor names\n",
    "        self.input_tensor_names = [engine.get_tensor_name(i) for i in range(n_input)]\n",
    "        self.output_tensor_names = [engine.get_tensor_name(i) for i in range(n_input, self.engine.num_io_tensors)]\n",
    "        TRT_LOGGER.log(TRT_LOGGER.INFO, 'Input nodes: '+ str(self.input_tensor_names))\n",
    "        TRT_LOGGER.log(TRT_LOGGER.INFO, 'Output nodes: '+ str(self.output_tensor_names))\n",
    "        #create memories and bindings\n",
    "        self.inputs = []\n",
    "        self.outputs = []\n",
    "        for bindingName in engine:\n",
    "            shape = [dim for dim in self.context.get_tensor_shape(bindingName)]\n",
    "            dtype = trt.nptype(engine.get_tensor_dtype(bindingName))\n",
    "            host_mem = cuda.pagelocked_empty(shape, dtype)\n",
    "            device_mem = cuda.mem_alloc(host_mem.nbytes)\n",
    "            mem = HostDeviceMem(host_mem, device_mem)\n",
    "            self.context.set_tensor_address(bindingName, int(device_mem)) # Use this setup without binding for v3\n",
    "            if bindingName in self.input_tensor_names:\n",
    "                self.inputs.append(mem)\n",
    "            else:\n",
    "                self.outputs.append(mem)\n",
    "\n",
    "        # create stream\n",
    "        self.stream = cuda.Stream()\n",
    "        # Create a CUDA events\n",
    "        self.start_event = cuda.Event()\n",
    "        self.end_event = cuda.Event()\n",
    "\n",
    "            \n",
    "    def get_last_inference_time(self):\n",
    "        return self.start_event.time_till(self.end_event)\n",
    "\n",
    "    def loadInputs(self, inputs: List[np.ndarray]):\n",
    "        # set input shapes, the output shapes are inferred automatically\n",
    "        for inp, inp_mem in zip(inputs, self.inputs):\n",
    "            if inp.dtype != inp_mem.host.dtype or inp.shape != inp_mem.host.shape:\n",
    "                print('Given:', inp.dtype, inp.shape)\n",
    "                print('Expected:',inp_mem.host.dtype, inp_mem.host.shape)\n",
    "                raise ValueError('Input shape or type does not match')\n",
    "            np.copyto(inp_mem.host, inp)\n",
    "        for inp_mem in self.inputs: inp_mem.htod(self.stream)\n",
    "        # Synchronize the stream\n",
    "        self.stream.synchronize()\n",
    "\n",
    "    def kickoff(self):\n",
    "        # Record the start event\n",
    "        self.start_event.record(self.stream)\n",
    "        # Run inference.\n",
    "        self.context.execute_async_v3(self.stream.handle)\n",
    "        # Record the end event\n",
    "        self.end_event.record(self.stream)\n",
    "        # Synchronize the stream\n",
    "        self.stream.synchronize()\n",
    "\n",
    "    def extractOutputs(self, copy:bool = True) -> List[np.ndarray]:\n",
    "        for out_mem in self.outputs: out_mem.dtoh(self.stream)\n",
    "        # Synchronize the stream\n",
    "        self.stream.synchronize()\n",
    "        if copy:\n",
    "            return [np.copy(outp.host) for outp in self.outputs]\n",
    "        else:\n",
    "            return [outp.host for outp in self.outputs]\n",
    "        \n",
    "        \n",
    "    def inference(self, inputs: List[np.ndarray]) -> List[np.ndarray]:\n",
    "        \"\"\"\n",
    "        inference process:\n",
    "        1. create execution context\n",
    "        2. set input shapes\n",
    "        3. allocate memory\n",
    "        4. copy input data to device\n",
    "        5. run inference on device\n",
    "        6. copy output data to host and reshape\n",
    "        \"\"\"\n",
    "\n",
    "        # set input shapes, the output shapes are inferred automatically\n",
    "        for inp, inp_mem in zip(inputs, self.inputs):\n",
    "            if inp.dtype != inp_mem.host.dtype or inp.shape != inp_mem.host.shape:\n",
    "                print('Given:', inp.dtype, inp.shape)\n",
    "                print('Expected:',inp_mem.host.dtype, inp_mem.host.shape)\n",
    "                raise ValueError('Input shape or type does not match')\n",
    "            np.copyto(inp_mem.host, inp)\n",
    "\n",
    "        for inp_mem in self.inputs: inp_mem.htod(self.stream)\n",
    "            \n",
    "        # Record the start event\n",
    "        self.start_event.record(self.stream)\n",
    "        # Run inference.\n",
    "        self.context.execute_async_v3(self.stream.handle)\n",
    "        # Record the end event\n",
    "        self.end_event.record(self.stream)\n",
    "\n",
    "        for out_mem in self.outputs: out_mem.dtoh(self.stream)\n",
    "            \n",
    "        # Synchronize the stream\n",
    "        self.stream.synchronize()\n",
    "        \n",
    "        return [np.copy(outp.host) for outp in self.outputs]"
   ]
  },
  {
   "cell_type": "code",
   "execution_count": 3,
   "id": "15a423dc-c339-4d25-98b1-2a171def414c",
   "metadata": {},
   "outputs": [],
   "source": [
    "save_engine(build_engine('E:/EasyVtuber_v0.5/data/models/tha3/seperable/fp16/merge_no_eyebrow.onnx','fp16'),\n",
    "            'E:/EasyVtuber_v0.5/data/models/tha3/seperable/fp16/merge_no_eyebrow.trt')"
   ]
  },
  {
   "cell_type": "code",
   "execution_count": 4,
   "id": "86e4c2ac-5458-4714-a0dd-e5df44afaf5f",
   "metadata": {},
   "outputs": [],
   "source": [
    "p = Processor(load_engine('E:/EasyVtuber_v0.5/data/models/tha3/seperable/fp16/merge_no_eyebrow.trt'),1)"
   ]
  },
  {
   "cell_type": "code",
   "execution_count": 6,
   "id": "7471e834-cec3-47d5-9791-aa6c0abfc716",
   "metadata": {},
   "outputs": [
    {
     "name": "stderr",
     "output_type": "stream",
     "text": [
      "100%|██████████████████████████████████████████████████████████████████████████████████████████████████████████████████████████████████████████████████████████████████████████████████████████████████████████████████████████████████████████████████████████| 10000/10000 [01:38<00:00, 101.07it/s]\n"
     ]
    }
   ],
   "source": [
    "from tqdm import tqdm\n",
    "for i in tqdm(range(10000)):\n",
    "    p.kickoff()"
   ]
  },
  {
   "cell_type": "code",
   "execution_count": 7,
   "id": "e8d88d4f-bb1e-4df1-83ba-9657673c5a7a",
   "metadata": {},
   "outputs": [],
   "source": [
    "save_engine(build_engine('E:/EasyVtuber_v0.5/data/models/Real-ESRGAN/exported_256_fp16.onnx','fp16'),\n",
    "            'E:/EasyVtuber_v0.5/data/models/Real-ESRGAN/exported_256_fp16.trt')"
   ]
  },
  {
   "cell_type": "code",
   "execution_count": 8,
   "id": "7e6a1c78-13b4-4394-8960-6678f5950639",
   "metadata": {},
   "outputs": [
    {
     "name": "stderr",
     "output_type": "stream",
     "text": [
      "100%|██████████████████████████████████████████████████████████████████████████████████████████████████████████████████████████████████████████████████████████████████████████████████████████████████████████████████████████████████████████████████████████| 10000/10000 [01:17<00:00, 128.51it/s]\n"
     ]
    }
   ],
   "source": [
    "p1 = Processor(load_engine('E:/EasyVtuber_v0.5/data/models/Real-ESRGAN/exported_256_fp16.trt'),1)\n",
    "from tqdm import tqdm\n",
    "for i in tqdm(range(10000)):\n",
    "    p1.kickoff()"
   ]
  },
  {
   "cell_type": "code",
   "execution_count": 13,
   "id": "30849089-f05b-4932-b4a2-74ddc6017e5c",
   "metadata": {},
   "outputs": [],
   "source": [
    "save_engine(build_engine('f:/talking-head-anime-3-demo/RIFE/rife_512/x2/fp16.onnx','fp16'),\n",
    "            'f:/talking-head-anime-3-demo/RIFE/rife_512/x2/fp16.trt')"
   ]
  },
  {
   "cell_type": "code",
   "execution_count": 14,
   "id": "a18298be-85a1-464b-bdcd-a5ea51c9eb4c",
   "metadata": {},
   "outputs": [
    {
     "name": "stderr",
     "output_type": "stream",
     "text": [
      "100%|██████████████████████████████████████████████████████████████████████████████████████████████████████████████████████████████████████████████████████████████████████████████████████████████████████████████████████████████████████████████████████████| 10000/10000 [00:41<00:00, 243.73it/s]\n"
     ]
    }
   ],
   "source": [
    "p2 = Processor(load_engine('f:/talking-head-anime-3-demo/RIFE/rife_512/x2/fp16.trt'),2)\n",
    "from tqdm import tqdm\n",
    "for i in tqdm(range(10000)):\n",
    "    p2.kickoff()"
   ]
  }
 ],
 "metadata": {
  "kernelspec": {
   "display_name": "Python 3 (ipykernel)",
   "language": "python",
   "name": "python3"
  },
  "language_info": {
   "codemirror_mode": {
    "name": "ipython",
    "version": 3
   },
   "file_extension": ".py",
   "mimetype": "text/x-python",
   "name": "python",
   "nbconvert_exporter": "python",
   "pygments_lexer": "ipython3",
   "version": "3.8.20"
  }
 },
 "nbformat": 4,
 "nbformat_minor": 5
}
