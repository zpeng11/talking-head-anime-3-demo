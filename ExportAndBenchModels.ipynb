{
 "cells": [
  {
   "cell_type": "code",
   "execution_count": 1,
   "id": "411b2b6f-dbec-4954-a7cd-6779755c2ce3",
   "metadata": {},
   "outputs": [],
   "source": [
    "import torch\n",
    "import numpy\n",
    "import PIL.Image\n",
    "from tha3.util import resize_PIL_image,extract_PIL_image_from_filelike, extract_pytorch_image_from_PIL_image\n",
    "from tqdm import tqdm\n",
    "import onnx\n",
    "from onnxsim import simplify\n",
    "import onnxruntime as ort\n",
    "import numpy as np\n",
    "from torch import Tensor\n",
    "from torch.nn import Module\n",
    "from typing import List, Optional\n",
    "from torch.nn.functional import interpolate\n",
    "import onnx_tool\n",
    "\n",
    "MODEL_NAME = \"separable_half\"\n",
    "HALF = True\n",
    "DEVICE_NAME = 'cuda:0'\n",
    "IMAGE_INPUT = \"data\\images\\crypko_07.png\"\n",
    "USE_RANDOM_IMAGE = False\n",
    "\n",
    "providers = [(\"CUDAExecutionProvider\", {\"device_id\": 0, #torch.cuda.current_device(),\n",
    "                                        \"user_compute_stream\": str(torch.cuda.current_stream().cuda_stream)})]\n",
    "sess_options = ort.SessionOptions()\n",
    "\n",
    "device = torch.device(DEVICE_NAME)\n",
    "dtype = torch.float16 if HALF else torch.float32\n"
   ]
  },
  {
   "cell_type": "code",
   "execution_count": 2,
   "id": "b978744a-13c3-44bc-80aa-784c98a5e97f",
   "metadata": {},
   "outputs": [
    {
     "name": "stdout",
     "output_type": "stream",
     "text": [
      "Using the separable_half model.\n",
      "Loading the eyebrow decomposer ... DONE!!!\n",
      "Loading the eyebrow morphing conbiner ... "
     ]
    },
    {
     "name": "stderr",
     "output_type": "stream",
     "text": [
      "F:\\talking-head-anime-3-demo\\tha3\\util.py:247: FutureWarning: You are using `torch.load` with `weights_only=False` (the current default value), which uses the default pickle module implicitly. It is possible to construct malicious pickle data which will execute arbitrary code during unpickling (See https://github.com/pytorch/pytorch/blob/main/SECURITY.md#untrusted-models for more details). In a future release, the default value for `weights_only` will be flipped to `True`. This limits the functions that could be executed during unpickling. Arbitrary objects will no longer be allowed to be loaded via this mode unless they are explicitly allowlisted by the user via `torch.serialization.add_safe_globals`. We recommend you start setting `weights_only=True` for any use case where you don't have full control of the loaded file. Please open an issue on GitHub for any issues related to this experimental feature.\n",
      "  return torch.load(f)\n"
     ]
    },
    {
     "name": "stdout",
     "output_type": "stream",
     "text": [
      "DONE!!!\n",
      "Loading the face morpher ... DONE!!!\n",
      "Loading the face-body rotator ... DONE!!!\n",
      "Loading the combiner ... DONE!!!\n"
     ]
    }
   ],
   "source": [
    "#Prepare models\n",
    "def load_poser(model: str, device: torch.device):\n",
    "    print(\"Using the %s model.\" % model)\n",
    "    if model == \"standard_float\":\n",
    "        from tha3.poser.modes.standard_float import create_poser\n",
    "        return create_poser(device)\n",
    "    elif model == \"standard_half\":\n",
    "        from tha3.poser.modes.standard_half import create_poser\n",
    "        return create_poser(device)\n",
    "    elif model == \"separable_float\":\n",
    "        from tha3.poser.modes.separable_float import create_poser\n",
    "        return create_poser(device)\n",
    "    elif model == \"separable_half\":\n",
    "        from tha3.poser.modes.separable_half import create_poser\n",
    "        return create_poser(device)\n",
    "    else:\n",
    "        raise RuntimeError(\"Invalid model: '%s'\" % model)\n",
    "        \n",
    "poser = load_poser(MODEL_NAME, DEVICE_NAME)\n",
    "pose_size = poser.get_num_parameters()\n",
    "\n",
    "eyebrow_decomposer = poser.get_modules()['eyebrow_decomposer']\n",
    "eyebrow_morphing_combiner = poser.get_modules()['eyebrow_morphing_combiner']\n",
    "face_morpher = poser.get_modules()['face_morpher']\n",
    "two_algo_face_body_rotator = poser.get_modules()['two_algo_face_body_rotator']\n",
    "editor = poser.get_modules()['editor']"
   ]
  },
  {
   "cell_type": "code",
   "execution_count": 3,
   "id": "4a1a1c07-6aaf-477a-a068-4eff34aa4497",
   "metadata": {},
   "outputs": [],
   "source": [
    "#Prepare one pass inference image data\n",
    "pt_img = None\n",
    "if USE_RANDOM_IMAGE:\n",
    "    pt_img = torch.rand(1, 4, 512, 512,dtype=dtype, device=device) * 2.0 - 1.0\n",
    "else:\n",
    "    pil_image = resize_PIL_image(extract_PIL_image_from_filelike(IMAGE_INPUT), size=(512,512))\n",
    "    \n",
    "    if HALF:\n",
    "        pt_img = extract_pytorch_image_from_PIL_image(pil_image).half().reshape(1,4,512,512).to(DEVICE_NAME)\n",
    "    else:\n",
    "        pt_img = extract_pytorch_image_from_PIL_image(pil_image).reshape(1,4,512,512).to(DEVICE_NAME)\n",
    "zero_pose = torch.zeros(1, pose_size, dtype=dtype, device=device)\n",
    "\n",
    "poser_torch_res = poser.pose(pt_img, zero_pose)"
   ]
  },
  {
   "cell_type": "code",
   "execution_count": 4,
   "id": "5099c456-c77d-4cdf-86ef-96d163528def",
   "metadata": {},
   "outputs": [
    {
     "name": "stderr",
     "output_type": "stream",
     "text": [
      "100%|████████████████████████████████████████████████████████████████████████████████| 100/100 [00:03<00:00, 28.84it/s]"
     ]
    },
    {
     "name": "stdout",
     "output_type": "stream",
     "text": [
      "3.471764326095581\n"
     ]
    },
    {
     "name": "stderr",
     "output_type": "stream",
     "text": [
      "\n"
     ]
    }
   ],
   "source": [
    "#Small bench for whole pose\n",
    "from time import time\n",
    "t1 = time()\n",
    "for i in tqdm(range(100)):\n",
    "    poser.pose(pt_img, zero_pose)\n",
    "print(time() - t1)"
   ]
  },
  {
   "cell_type": "code",
   "execution_count": 5,
   "id": "6d879bd6-a270-4113-82ef-9594e695508c",
   "metadata": {},
   "outputs": [],
   "source": [
    "# Work on eyebrow decomposer export and quantize\n",
    "EYEBROW_DECOMPOSER_ONNX_MODEL_NAME = \"eyebrow_decomposer.onnx\"\n",
    "EYEBROW_DECOMPOSER_SIMPLIFIED_ONNX_MODEL_NAME = \"eyebrow_decomposer_sim.onnx\"\n",
    "EYEBROW_DECOMPOSER_INPUT_LIST = ['input_image']\n",
    "EYEBROW_DECOMPOSER_OUTPUT_LIST = [\"background_layer\", \"eyebrow_layer\"]\n",
    "EYEBROW_DECOMPOSER_INPUT_SHAPE = (1,4,128,128)\n",
    "EYEBROW_DECOMPOSER_INPUT_IMAGE_SIZE = 128\n",
    "\n",
    "eyebrow_decomposer_input_img = pt_img[:,:, 64:192, 64 + 128:192 + 128].reshape(EYEBROW_DECOMPOSER_INPUT_SHAPE)\n",
    "eyebrow_decomposer_input_img_numpy = eyebrow_decomposer_input_img.cpu().numpy()\n",
    "eyebrow_decomposer_torch_res = eyebrow_decomposer(eyebrow_decomposer_input_img) # Try one round inference to catch problem"
   ]
  },
  {
   "cell_type": "code",
   "execution_count": 6,
   "id": "90d00b91-8bc1-4573-bf99-c2d65774a1ce",
   "metadata": {},
   "outputs": [],
   "source": [
    "class EyebrowDecomposerWrapper(Module):\n",
    "    def __init__(self, eyebrow_decomposer_obj):\n",
    "        super().__init__()\n",
    "        self.eyebrow_decomposer = eyebrow_decomposer_obj\n",
    "    def forward(self, image: Tensor, *args) -> List[Tensor]:\n",
    "        cropped = image[:,:, 64:192, 64 + 128:192 + 128].reshape((1,4,128,128))\n",
    "        decomposer_res = self.eyebrow_decomposer(cropped)\n",
    "        return [decomposer_res[3], decomposer_res[0]]\n",
    "eyebrow_decomposer_wrapper = EyebrowDecomposerWrapper(eyebrow_decomposer).eval()\n",
    "eyebrow_decomposer_wrapped_torch_res = eyebrow_decomposer_wrapper(pt_img)"
   ]
  },
  {
   "cell_type": "code",
   "execution_count": 7,
   "id": "06b39574-329a-4436-a922-50cebfeeeb1a",
   "metadata": {},
   "outputs": [
    {
     "name": "stderr",
     "output_type": "stream",
     "text": [
      "F:\\Anaconda\\envs\\talking-head-anime-3-dev\\lib\\site-packages\\torch\\onnx\\symbolic_helper.py:1531: UserWarning: ONNX export mode is set to TrainingMode.EVAL, but operator 'instance_norm' is set to train=True. Exporting with train=True.\n",
      "  warnings.warn(\n"
     ]
    }
   ],
   "source": [
    "#Export onnx model finally get a simplified decomposer onnx model\n",
    "torch.onnx.export(eyebrow_decomposer_wrapper,               # model being run\n",
    "                  pt_img,                         # model input (or a tuple for multiple inputs)\n",
    "                  EYEBROW_DECOMPOSER_ONNX_MODEL_NAME,   # where to save the model (can be a file or file-like object)\n",
    "                  export_params=True,        # store the trained parameter weights inside the model file\n",
    "                  opset_version=16,          # the ONNX version to export the model to\n",
    "                  do_constant_folding=True,  # whether to execute constant folding for optimization\n",
    "                  input_names = EYEBROW_DECOMPOSER_INPUT_LIST,   # the model's input names\n",
    "                  output_names = EYEBROW_DECOMPOSER_OUTPUT_LIST) # the model's output names\n",
    "onnx_model = onnx.load(EYEBROW_DECOMPOSER_ONNX_MODEL_NAME)\n",
    "onnx.checker.check_model(onnx_model)\n",
    "onnx_model_sim, check = simplify(onnx_model)\n",
    "if check:\n",
    "    onnx.save(onnx_model_sim, EYEBROW_DECOMPOSER_SIMPLIFIED_ONNX_MODEL_NAME)\n",
    "else:\n",
    "    print(\"Simplify error!\")"
   ]
  },
  {
   "cell_type": "code",
   "execution_count": 8,
   "id": "cd7a2df1-5737-46bc-91e8-95c675b9ee9f",
   "metadata": {},
   "outputs": [
    {
     "name": "stdout",
     "output_type": "stream",
     "text": [
      "MSE is:  0.0\n",
      "MSE is:  0.0\n"
     ]
    }
   ],
   "source": [
    "input_dict = {k:v.cpu().detach().numpy() for k,v in zip(EYEBROW_DECOMPOSER_INPUT_LIST, (pt_img))}\n",
    "# Verify correctness compare to pytorch\n",
    "pt_img_np = pt_img.cpu().detach().numpy()\n",
    "ort_sess = ort.InferenceSession(EYEBROW_DECOMPOSER_SIMPLIFIED_ONNX_MODEL_NAME, sess_options=sess_options, providers=providers)\n",
    "onnx_sim_output = ort_sess.run(None, {'input_image':pt_img_np,})\n",
    "print(\"MSE is: \",((onnx_sim_output[0] - eyebrow_decomposer_torch_res[3].cpu().detach().numpy()) ** 2).mean())\n",
    "print(\"MSE is: \",((onnx_sim_output[1] - eyebrow_decomposer_torch_res[0].cpu().detach().numpy()) ** 2).mean())"
   ]
  },
  {
   "cell_type": "code",
   "execution_count": 9,
   "id": "685efbeb-0112-4055-b149-a51d3895143a",
   "metadata": {
    "scrolled": true
   },
   "outputs": [
    {
     "name": "stdout",
     "output_type": "stream",
     "text": [
      "Name                                                                                          Type                   Forward_MACs    FPercent    Memory      MPercent    Params     PPercent    InShape        OutShape\n",
      "--------------------------------------------------------------------------------------------  ---------------------  --------------  ----------  ----------  ----------  ---------  ----------  -------------  -------------\n",
      "Slice_0                                                                                       Slice                  0               0.00%       131,136     0.26%       8          0.00%       1x4x512x512    1x4x128x128\n",
      "/eyebrow_decomposer/body/downsample_blocks.0/downsample_blocks.0.0/Conv                       Conv                   589,824         0.04%       131,144     0.26%       36         0.00%       1x4x128x128    1x4x128x128\n",
      "/eyebrow_decomposer/body/downsample_blocks.0/downsample_blocks.0.1/Conv                       Conv                   4,194,304       0.28%       2,097,664   4.11%       256        0.01%       1x4x128x128    1x64x128x128\n",
      "/eyebrow_decomposer/body/downsample_blocks.0/downsample_blocks.0.2/InstanceNormalization      InstanceNormalization  7,340,032       0.50%       2,097,408   4.11%       128        0.00%       1x64x128x128   1x64x128x128\n",
      "/eyebrow_decomposer/body/downsample_blocks.0/downsample_blocks.0.3/Relu                       Relu                   1,048,576       0.07%       2,097,152   4.11%       0          0.00%       1x64x128x128   1x64x128x128\n",
      "/eyebrow_decomposer/body/downsample_blocks.1/downsample_blocks.1.0/Conv                       Conv                   4,194,304       0.28%       526,336     1.03%       1,024      0.03%       1x64x128x128   1x64x64x64\n",
      "/eyebrow_decomposer/body/downsample_blocks.1/downsample_blocks.1.1/Conv                       Conv                   33,554,432      2.28%       1,064,960   2.09%       8,192      0.25%       1x64x64x64     1x128x64x64\n",
      "/eyebrow_decomposer/body/downsample_blocks.1/downsample_blocks.1.2/InstanceNormalization      InstanceNormalization  3,670,016       0.25%       1,049,088   2.06%       256        0.01%       1x128x64x64    1x128x64x64\n",
      "/eyebrow_decomposer/body/downsample_blocks.1/downsample_blocks.1.3/Relu                       Relu                   524,288         0.04%       1,048,576   2.06%       0          0.00%       1x128x64x64    1x128x64x64\n",
      "/eyebrow_decomposer/body/downsample_blocks.2/downsample_blocks.2.0/Conv                       Conv                   2,097,152       0.14%       266,240     0.52%       2,048      0.06%       1x128x64x64    1x128x32x32\n",
      "/eyebrow_decomposer/body/downsample_blocks.2/downsample_blocks.2.1/Conv                       Conv                   33,554,432      2.28%       589,824     1.16%       32,768     0.99%       1x128x32x32    1x256x32x32\n",
      "/eyebrow_decomposer/body/downsample_blocks.2/downsample_blocks.2.2/InstanceNormalization      InstanceNormalization  1,835,008       0.12%       525,312     1.03%       512        0.02%       1x256x32x32    1x256x32x32\n",
      "/eyebrow_decomposer/body/downsample_blocks.2/downsample_blocks.2.3/Relu                       Relu                   262,144         0.02%       524,288     1.03%       0          0.00%       1x256x32x32    1x256x32x32\n",
      "/eyebrow_decomposer/body/downsample_blocks.3/downsample_blocks.3.0/Conv                       Conv                   1,048,576       0.07%       139,264     0.27%       4,096      0.12%       1x256x32x32    1x256x16x16\n",
      "/eyebrow_decomposer/body/downsample_blocks.3/downsample_blocks.3.1/Conv                       Conv                   33,554,432      2.28%       524,288     1.03%       131,072    3.95%       1x256x16x16    1x512x16x16\n",
      "/eyebrow_decomposer/body/downsample_blocks.3/downsample_blocks.3.2/InstanceNormalization      InstanceNormalization  917,504         0.06%       264,192     0.52%       1,024      0.03%       1x512x16x16    1x512x16x16\n",
      "/eyebrow_decomposer/body/downsample_blocks.3/downsample_blocks.3.3/Relu                       Relu                   131,072         0.01%       262,144     0.51%       0          0.00%       1x512x16x16    1x512x16x16\n",
      "/eyebrow_decomposer/body/bottleneck_blocks.0/bottleneck_blocks.0.0/Conv                       Conv                   1,179,648       0.08%       271,360     0.53%       4,608      0.14%       1x512x16x16    1x512x16x16\n",
      "/eyebrow_decomposer/body/bottleneck_blocks.0/bottleneck_blocks.0.1/Conv                       Conv                   67,108,864      4.56%       786,432     1.54%       262,144    7.90%       1x512x16x16    1x512x16x16\n",
      "/eyebrow_decomposer/body/bottleneck_blocks.0/bottleneck_blocks.0.2/InstanceNormalization      InstanceNormalization  917,504         0.06%       264,192     0.52%       1,024      0.03%       1x512x16x16    1x512x16x16\n",
      "/eyebrow_decomposer/body/bottleneck_blocks.0/bottleneck_blocks.0.3/Relu                       Relu                   131,072         0.01%       262,144     0.51%       0          0.00%       1x512x16x16    1x512x16x16\n",
      "/eyebrow_decomposer/body/bottleneck_blocks.1/resnet_path/resnet_path.0/resnet_path.0.0/Conv   Conv                   1,179,648       0.08%       271,360     0.53%       4,608      0.14%       1x512x16x16    1x512x16x16\n",
      "/eyebrow_decomposer/body/bottleneck_blocks.1/resnet_path/resnet_path.0/resnet_path.0.1/Conv   Conv                   67,108,864      4.56%       786,432     1.54%       262,144    7.90%       1x512x16x16    1x512x16x16\n",
      "/eyebrow_decomposer/body/bottleneck_blocks.1/resnet_path/resnet_path.1/InstanceNormalization  InstanceNormalization  917,504         0.06%       264,192     0.52%       1,024      0.03%       1x512x16x16    1x512x16x16\n",
      "/eyebrow_decomposer/body/bottleneck_blocks.1/resnet_path/resnet_path.2/Relu                   Relu                   131,072         0.01%       262,144     0.51%       0          0.00%       1x512x16x16    1x512x16x16\n",
      "/eyebrow_decomposer/body/bottleneck_blocks.1/resnet_path/resnet_path.3/resnet_path.3.0/Conv   Conv                   1,179,648       0.08%       271,360     0.53%       4,608      0.14%       1x512x16x16    1x512x16x16\n",
      "/eyebrow_decomposer/body/bottleneck_blocks.1/resnet_path/resnet_path.3/resnet_path.3.1/Conv   Conv                   67,108,864      4.56%       786,432     1.54%       262,144    7.90%       1x512x16x16    1x512x16x16\n",
      "/eyebrow_decomposer/body/bottleneck_blocks.1/resnet_path/resnet_path.4/InstanceNormalization  InstanceNormalization  917,504         0.06%       264,192     0.52%       1,024      0.03%       1x512x16x16    1x512x16x16\n",
      "/eyebrow_decomposer/body/bottleneck_blocks.1/Add                                              Add                    131,072         0.01%       262,144     0.51%       0          0.00%       1x512x16x16    1x512x16x16\n",
      "/eyebrow_decomposer/body/bottleneck_blocks.2/resnet_path/resnet_path.0/resnet_path.0.0/Conv   Conv                   1,179,648       0.08%       271,360     0.53%       4,608      0.14%       1x512x16x16    1x512x16x16\n",
      "/eyebrow_decomposer/body/bottleneck_blocks.2/resnet_path/resnet_path.0/resnet_path.0.1/Conv   Conv                   67,108,864      4.56%       786,432     1.54%       262,144    7.90%       1x512x16x16    1x512x16x16\n",
      "/eyebrow_decomposer/body/bottleneck_blocks.2/resnet_path/resnet_path.1/InstanceNormalization  InstanceNormalization  917,504         0.06%       264,192     0.52%       1,024      0.03%       1x512x16x16    1x512x16x16\n",
      "/eyebrow_decomposer/body/bottleneck_blocks.2/resnet_path/resnet_path.2/Relu                   Relu                   131,072         0.01%       262,144     0.51%       0          0.00%       1x512x16x16    1x512x16x16\n",
      "/eyebrow_decomposer/body/bottleneck_blocks.2/resnet_path/resnet_path.3/resnet_path.3.0/Conv   Conv                   1,179,648       0.08%       271,360     0.53%       4,608      0.14%       1x512x16x16    1x512x16x16\n",
      "/eyebrow_decomposer/body/bottleneck_blocks.2/resnet_path/resnet_path.3/resnet_path.3.1/Conv   Conv                   67,108,864      4.56%       786,432     1.54%       262,144    7.90%       1x512x16x16    1x512x16x16\n",
      "/eyebrow_decomposer/body/bottleneck_blocks.2/resnet_path/resnet_path.4/InstanceNormalization  InstanceNormalization  917,504         0.06%       264,192     0.52%       1,024      0.03%       1x512x16x16    1x512x16x16\n",
      "/eyebrow_decomposer/body/bottleneck_blocks.2/Add                                              Add                    131,072         0.01%       262,144     0.51%       0          0.00%       1x512x16x16    1x512x16x16\n",
      "/eyebrow_decomposer/body/bottleneck_blocks.3/resnet_path/resnet_path.0/resnet_path.0.0/Conv   Conv                   1,179,648       0.08%       271,360     0.53%       4,608      0.14%       1x512x16x16    1x512x16x16\n",
      "/eyebrow_decomposer/body/bottleneck_blocks.3/resnet_path/resnet_path.0/resnet_path.0.1/Conv   Conv                   67,108,864      4.56%       786,432     1.54%       262,144    7.90%       1x512x16x16    1x512x16x16\n",
      "/eyebrow_decomposer/body/bottleneck_blocks.3/resnet_path/resnet_path.1/InstanceNormalization  InstanceNormalization  917,504         0.06%       264,192     0.52%       1,024      0.03%       1x512x16x16    1x512x16x16\n",
      "/eyebrow_decomposer/body/bottleneck_blocks.3/resnet_path/resnet_path.2/Relu                   Relu                   131,072         0.01%       262,144     0.51%       0          0.00%       1x512x16x16    1x512x16x16\n",
      "/eyebrow_decomposer/body/bottleneck_blocks.3/resnet_path/resnet_path.3/resnet_path.3.0/Conv   Conv                   1,179,648       0.08%       271,360     0.53%       4,608      0.14%       1x512x16x16    1x512x16x16\n",
      "/eyebrow_decomposer/body/bottleneck_blocks.3/resnet_path/resnet_path.3/resnet_path.3.1/Conv   Conv                   67,108,864      4.56%       786,432     1.54%       262,144    7.90%       1x512x16x16    1x512x16x16\n",
      "/eyebrow_decomposer/body/bottleneck_blocks.3/resnet_path/resnet_path.4/InstanceNormalization  InstanceNormalization  917,504         0.06%       264,192     0.52%       1,024      0.03%       1x512x16x16    1x512x16x16\n",
      "/eyebrow_decomposer/body/bottleneck_blocks.3/Add                                              Add                    131,072         0.01%       262,144     0.51%       0          0.00%       1x512x16x16    1x512x16x16\n",
      "/eyebrow_decomposer/body/bottleneck_blocks.4/resnet_path/resnet_path.0/resnet_path.0.0/Conv   Conv                   1,179,648       0.08%       271,360     0.53%       4,608      0.14%       1x512x16x16    1x512x16x16\n",
      "/eyebrow_decomposer/body/bottleneck_blocks.4/resnet_path/resnet_path.0/resnet_path.0.1/Conv   Conv                   67,108,864      4.56%       786,432     1.54%       262,144    7.90%       1x512x16x16    1x512x16x16\n",
      "/eyebrow_decomposer/body/bottleneck_blocks.4/resnet_path/resnet_path.1/InstanceNormalization  InstanceNormalization  917,504         0.06%       264,192     0.52%       1,024      0.03%       1x512x16x16    1x512x16x16\n",
      "/eyebrow_decomposer/body/bottleneck_blocks.4/resnet_path/resnet_path.2/Relu                   Relu                   131,072         0.01%       262,144     0.51%       0          0.00%       1x512x16x16    1x512x16x16\n",
      "/eyebrow_decomposer/body/bottleneck_blocks.4/resnet_path/resnet_path.3/resnet_path.3.0/Conv   Conv                   1,179,648       0.08%       271,360     0.53%       4,608      0.14%       1x512x16x16    1x512x16x16\n",
      "/eyebrow_decomposer/body/bottleneck_blocks.4/resnet_path/resnet_path.3/resnet_path.3.1/Conv   Conv                   67,108,864      4.56%       786,432     1.54%       262,144    7.90%       1x512x16x16    1x512x16x16\n",
      "/eyebrow_decomposer/body/bottleneck_blocks.4/resnet_path/resnet_path.4/InstanceNormalization  InstanceNormalization  917,504         0.06%       264,192     0.52%       1,024      0.03%       1x512x16x16    1x512x16x16\n",
      "/eyebrow_decomposer/body/bottleneck_blocks.4/Add                                              Add                    131,072         0.01%       262,144     0.51%       0          0.00%       1x512x16x16    1x512x16x16\n",
      "/eyebrow_decomposer/body/bottleneck_blocks.5/resnet_path/resnet_path.0/resnet_path.0.0/Conv   Conv                   1,179,648       0.08%       271,360     0.53%       4,608      0.14%       1x512x16x16    1x512x16x16\n",
      "/eyebrow_decomposer/body/bottleneck_blocks.5/resnet_path/resnet_path.0/resnet_path.0.1/Conv   Conv                   67,108,864      4.56%       786,432     1.54%       262,144    7.90%       1x512x16x16    1x512x16x16\n",
      "/eyebrow_decomposer/body/bottleneck_blocks.5/resnet_path/resnet_path.1/InstanceNormalization  InstanceNormalization  917,504         0.06%       264,192     0.52%       1,024      0.03%       1x512x16x16    1x512x16x16\n",
      "/eyebrow_decomposer/body/bottleneck_blocks.5/resnet_path/resnet_path.2/Relu                   Relu                   131,072         0.01%       262,144     0.51%       0          0.00%       1x512x16x16    1x512x16x16\n",
      "/eyebrow_decomposer/body/bottleneck_blocks.5/resnet_path/resnet_path.3/resnet_path.3.0/Conv   Conv                   1,179,648       0.08%       271,360     0.53%       4,608      0.14%       1x512x16x16    1x512x16x16\n",
      "/eyebrow_decomposer/body/bottleneck_blocks.5/resnet_path/resnet_path.3/resnet_path.3.1/Conv   Conv                   67,108,864      4.56%       786,432     1.54%       262,144    7.90%       1x512x16x16    1x512x16x16\n",
      "/eyebrow_decomposer/body/bottleneck_blocks.5/resnet_path/resnet_path.4/InstanceNormalization  InstanceNormalization  917,504         0.06%       264,192     0.52%       1,024      0.03%       1x512x16x16    1x512x16x16\n",
      "/eyebrow_decomposer/body/bottleneck_blocks.5/Add                                              Add                    131,072         0.01%       262,144     0.51%       0          0.00%       1x512x16x16    1x512x16x16\n",
      "/eyebrow_decomposer/body/upsample_blocks.0/upsample_blocks.0.0/ConvTranspose                  ConvTranspose          8,388,608       0.57%       1,064,960   2.09%       8,192      0.25%       1x512x16x16    1x512x32x32\n",
      "/eyebrow_decomposer/body/upsample_blocks.0/upsample_blocks.0.1/Conv                           Conv                   134,217,728     9.11%       786,432     1.54%       131,072    3.95%       1x512x32x32    1x256x32x32\n",
      "/eyebrow_decomposer/body/upsample_blocks.0/upsample_blocks.0.2/InstanceNormalization          InstanceNormalization  1,835,008       0.12%       525,312     1.03%       512        0.02%       1x256x32x32    1x256x32x32\n",
      "/eyebrow_decomposer/body/upsample_blocks.0/upsample_blocks.0.3/Relu                           Relu                   262,144         0.02%       524,288     1.03%       0          0.00%       1x256x32x32    1x256x32x32\n",
      "/eyebrow_decomposer/body/upsample_blocks.1/upsample_blocks.1.0/ConvTranspose                  ConvTranspose          16,777,216      1.14%       2,105,344   4.13%       4,096      0.12%       1x256x32x32    1x256x64x64\n",
      "/eyebrow_decomposer/body/upsample_blocks.1/upsample_blocks.1.1/Conv                           Conv                   134,217,728     9.11%       1,114,112   2.18%       32,768     0.99%       1x256x64x64    1x128x64x64\n",
      "/eyebrow_decomposer/body/upsample_blocks.1/upsample_blocks.1.2/InstanceNormalization          InstanceNormalization  3,670,016       0.25%       1,049,088   2.06%       256        0.01%       1x128x64x64    1x128x64x64\n",
      "/eyebrow_decomposer/body/upsample_blocks.1/upsample_blocks.1.3/Relu                           Relu                   524,288         0.04%       1,048,576   2.06%       0          0.00%       1x128x64x64    1x128x64x64\n",
      "/eyebrow_decomposer/body/upsample_blocks.2/upsample_blocks.2.0/ConvTranspose                  ConvTranspose          33,554,432      2.28%       4,198,400   8.23%       2,048      0.06%       1x128x64x64    1x128x128x128\n",
      "/eyebrow_decomposer/body/upsample_blocks.2/upsample_blocks.2.1/Conv                           Conv                   134,217,728     9.11%       2,113,536   4.14%       8,192      0.25%       1x128x128x128  1x64x128x128\n",
      "/eyebrow_decomposer/body/upsample_blocks.2/upsample_blocks.2.2/InstanceNormalization          InstanceNormalization  7,340,032       0.50%       2,097,408   4.11%       128        0.00%       1x64x128x128   1x64x128x128\n",
      "/eyebrow_decomposer/body/upsample_blocks.2/upsample_blocks.2.3/Relu                           Relu                   1,048,576       0.07%       2,097,152   4.11%       0          0.00%       1x64x128x128   1x64x128x128\n",
      "/eyebrow_decomposer/background_layer_alpha/background_layer_alpha.0/Conv                      Conv                   9,453,568       0.64%       33,922      0.07%       577        0.02%       1x64x128x128   1x1x128x128\n",
      "/eyebrow_decomposer/background_layer_color_change/background_layer_color_change.0/Conv        Conv                   37,814,272      2.57%       135,688     0.27%       2,308      0.07%       1x64x128x128   1x4x128x128\n",
      "/eyebrow_decomposer/eyebrow_layer_alpha/eyebrow_layer_alpha.0/Conv                            Conv                   9,453,568       0.64%       33,922      0.07%       577        0.02%       1x64x128x128   1x1x128x128\n",
      "/eyebrow_decomposer/eyebrow_layer_color_change/eyebrow_layer_color_change.0/Conv              Conv                   37,814,272      2.57%       135,688     0.27%       2,308      0.07%       1x64x128x128   1x4x128x128\n",
      "/eyebrow_decomposer/background_layer_alpha/background_layer_alpha.1/Sigmoid                   Sigmoid                524,288         0.04%       32,768      0.06%       0          0.00%       1x1x128x128    1x1x128x128\n",
      "/eyebrow_decomposer/background_layer_color_change/background_layer_color_change.1/Tanh        Tanh                   4,980,736       0.34%       131,072     0.26%       0          0.00%       1x4x128x128    1x4x128x128\n",
      "/eyebrow_decomposer/eyebrow_layer_alpha/eyebrow_layer_alpha.1/Sigmoid                         Sigmoid                524,288         0.04%       32,768      0.06%       0          0.00%       1x1x128x128    1x1x128x128\n",
      "/eyebrow_decomposer/eyebrow_layer_color_change/eyebrow_layer_color_change.1/Tanh              Tanh                   4,980,736       0.34%       131,072     0.26%       0          0.00%       1x4x128x128    1x4x128x128\n",
      "/eyebrow_decomposer/Mul                                                                       Mul                    65,536          0.00%       131,072     0.26%       0          0.00%       1x4x128x128    1x4x128x128\n",
      "/eyebrow_decomposer/Sub                                                                       Sub                    16,384          0.00%       32,768      0.06%       0          0.00%       0              1x1x128x128\n",
      "/eyebrow_decomposer/Mul_2                                                                     Mul                    65,536          0.00%       131,072     0.26%       0          0.00%       1x4x128x128    1x4x128x128\n",
      "/eyebrow_decomposer/Sub_1                                                                     Sub                    16,384          0.00%       32,768      0.06%       0          0.00%       0              1x1x128x128\n",
      "/eyebrow_decomposer/Mul_1                                                                     Mul                    65,536          0.00%       131,072     0.26%       0          0.00%       1x4x128x128    1x4x128x128\n",
      "/eyebrow_decomposer/Mul_3                                                                     Mul                    65,536          0.00%       131,072     0.26%       0          0.00%       1x4x128x128    1x4x128x128\n",
      "/eyebrow_decomposer/Add                                                                       Add                    65,536          0.00%       131,072     0.26%       0          0.00%       1x4x128x128    1x4x128x128\n",
      "/eyebrow_decomposer/Add_1                                                                     Add                    65,536          0.00%       131,072     0.26%       0          0.00%       1x4x128x128    1x4x128x128\n",
      "Total                                                                                         _                      1,473,249,280   100%        51,007,900  100%        3,319,990  100%        _              _\n"
     ]
    }
   ],
   "source": [
    "onnx_tool.model_profile(EYEBROW_DECOMPOSER_SIMPLIFIED_ONNX_MODEL_NAME, None, None)"
   ]
  },
  {
   "cell_type": "code",
   "execution_count": 10,
   "id": "c0b2c294-ee7c-4f67-b140-119e6158cbe7",
   "metadata": {},
   "outputs": [
    {
     "name": "stderr",
     "output_type": "stream",
     "text": [
      "100%|███████████████████████████████████████████████████████████████████████████████| 100/100 [00:00<00:00, 121.01it/s]\n",
      "100%|███████████████████████████████████████████████████████████████████████████████| 100/100 [00:00<00:00, 150.19it/s]\n"
     ]
    }
   ],
   "source": [
    "# Small bench on cpu to check performance\n",
    "for i in tqdm(range(100)):\n",
    "    eyebrow_decomposer(eyebrow_decomposer_input_img)\n",
    "for i in tqdm(range(100)):\n",
    "    ort_sess.run(None, {'input_image':pt_img_np,})\n",
    "#Since decomposer is not required for every run iteration, no need to quantize"
   ]
  },
  {
   "cell_type": "code",
   "execution_count": 11,
   "id": "19309a93-5219-4d58-ad15-a5eb1277f8a2",
   "metadata": {},
   "outputs": [
    {
     "name": "stderr",
     "output_type": "stream",
     "text": [
      "F:\\talking-head-anime-3-demo\\tha3\\nn\\image_processing_util.py:64: TracerWarning: Converting a tensor to a Python boolean might cause the trace to be incorrect. We can't record the data flow of Python values, so this value will be treated as a constant in the future. This means that the trace might not generalize to other inputs!\n",
      "  if n == self.last_n and device == self.last_device:\n"
     ]
    },
    {
     "name": "stdout",
     "output_type": "stream",
     "text": [
      "MSE is:  6e-08\n"
     ]
    }
   ],
   "source": [
    "# Start working on eyebrow morphine combiner\n",
    "\n",
    "EYEBROW_MORPHING_COMBINER_INPUT_LIST = ['input_image','eyebrow_background_layer', \"eyebrow_layer\", 'eyebrow_pose']\n",
    "EYEBROW_MORPHING_COMBINER_OUTPUT_LIST = ['eyebrow_image']  # 7\n",
    "EYEBROW_POSE_SHAPE = (1, 12)\n",
    "EYEBROW_MORPHING_COMBINER_ONNX_MODEL_NAME = \"eyebrow_morphing_combiner.onnx\"\n",
    "EYEBROW_MORPHING_COMBINER_SIMPLIFIED_ONNX_MODEL_NAME = \"eyebrow_morphing_combiner_sim.onnx\"\n",
    "\n",
    "\n",
    "eyebrow_pose_zero = torch.zeros(EYEBROW_POSE_SHAPE, dtype=dtype, device=device)\n",
    "eyebrow_morphing_combiner_torch_res = eyebrow_morphing_combiner(eyebrow_decomposer_torch_res[3], \n",
    "                                                                eyebrow_decomposer_torch_res[0], eyebrow_pose_zero)\n",
    "\n",
    "#Build a new eyebrow_morphing_combiner that does cropping\n",
    "class EyebrowMorphingCombinerWrapper(Module):\n",
    "    def __init__(self, eyebrow_morphing_combiner_obj):\n",
    "        super().__init__()\n",
    "        self.eyebrow_morphing_combiner = eyebrow_morphing_combiner_obj\n",
    "    def forward(self, full_image:Tensor, background_layer: Tensor, eyebrow_layer: Tensor, pose: Tensor, *args) -> Tensor:\n",
    "        im_morpher_crop = full_image[:, :, 32:32 + 192, (32 + 128):(32 + 192 + 128)].clone()\n",
    "        im_morpher_crop[:, :, 32:32 + 128, 32:32 + 128] = self.eyebrow_morphing_combiner(background_layer, eyebrow_layer, pose)[2]\n",
    "        return im_morpher_crop\n",
    "eyebrow_morphing_combiner_wrapped = EyebrowMorphingCombinerWrapper(eyebrow_morphing_combiner).eval()\n",
    "eyebrow_morphing_combiner_wrapped_torch_res = eyebrow_morphing_combiner_wrapped(pt_img, eyebrow_decomposer_wrapped_torch_res[0], \n",
    "                                                                                eyebrow_decomposer_wrapped_torch_res[1], eyebrow_pose_zero)\n",
    "\n",
    "\n",
    "input_tuple = (pt_img, eyebrow_decomposer_wrapped_torch_res[0], eyebrow_decomposer_wrapped_torch_res[1], eyebrow_pose_zero)\n",
    "input_dict = {k:v.cpu().detach().numpy() for k,v in zip(EYEBROW_MORPHING_COMBINER_INPUT_LIST,input_tuple)}\n",
    "torch.onnx.export(eyebrow_morphing_combiner_wrapped,               # model being run\n",
    "                  input_tuple,                         # model input (or a tuple for multiple inputs)\n",
    "                  EYEBROW_MORPHING_COMBINER_ONNX_MODEL_NAME,   # where to save the model (can be a file or file-like object)\n",
    "                  export_params=True,        # store the trained parameter weights inside the model file\n",
    "                  opset_version=16,          # the ONNX version to export the model to\n",
    "                  do_constant_folding=True,  # whether to execute constant folding for optimization\n",
    "                  input_names = EYEBROW_MORPHING_COMBINER_INPUT_LIST,   # the model's input names\n",
    "                  output_names = EYEBROW_MORPHING_COMBINER_OUTPUT_LIST) \n",
    "onnx_model = onnx.load(EYEBROW_MORPHING_COMBINER_ONNX_MODEL_NAME)\n",
    "onnx.checker.check_model(onnx_model)\n",
    "eyebrow_morphing_combiner_onnx_model_sim, check = simplify(onnx_model)\n",
    "if check:\n",
    "    onnx.save(eyebrow_morphing_combiner_onnx_model_sim,EYEBROW_MORPHING_COMBINER_SIMPLIFIED_ONNX_MODEL_NAME)\n",
    "else:\n",
    "    print(\"Simplify error!\")\n",
    "\n",
    "im_morpher_crop = pt_img[:, :, 32:32 + 192, (32 + 128):(32 + 192 + 128)].clone()\n",
    "im_morpher_crop[:, :, 32:32 + 128, 32:32 + 128] =eyebrow_morphing_combiner_torch_res[2]\n",
    "\n",
    "# Verify correctness compare to pytorch\n",
    "ort_sess_sim = ort.InferenceSession(EYEBROW_MORPHING_COMBINER_SIMPLIFIED_ONNX_MODEL_NAME, sess_options=sess_options, providers=providers)\n",
    "onnx_sim_output = ort_sess_sim.run(None,input_dict)\n",
    "print(\"MSE is: \",((onnx_sim_output[0] - im_morpher_crop.cpu().detach().numpy()) ** 2).mean())"
   ]
  },
  {
   "cell_type": "code",
   "execution_count": 12,
   "id": "be657a8c-2b79-463f-99df-8896239948e0",
   "metadata": {},
   "outputs": [
    {
     "name": "stdout",
     "output_type": "stream",
     "text": [
      "float16 (1, 4, 192, 192) 1.0 -1.0 -0.684\n",
      "float16 (1, 4, 192, 192) 1.0 -1.0 -0.684\n"
     ]
    }
   ],
   "source": [
    "def printInfo(a):\n",
    "    print(a.dtype, a.shape, np.max(a),np.min(a), np.mean(a))\n",
    "printInfo(onnx_sim_output[0])\n",
    "printInfo(im_morpher_crop.cpu().detach().numpy())"
   ]
  },
  {
   "cell_type": "code",
   "execution_count": 13,
   "id": "5e6c81b9-a4de-450d-bdbf-26ec827e7592",
   "metadata": {
    "scrolled": true
   },
   "outputs": [
    {
     "name": "stdout",
     "output_type": "stream",
     "text": [
      "Name                                                                                                     Type                   Forward_MACs    FPercent    Memory      MPercent    Params     PPercent    InShape        OutShape\n",
      "-------------------------------------------------------------------------------------------------------  ---------------------  --------------  ----------  ----------  ----------  ---------  ----------  -------------  -------------\n",
      "Slice_0                                                                                                  Slice                  0               0.00%       294,976     0.54%       8          0.00%       1x4x512x512    1x4x192x192\n",
      "/eyebrow_morphing_combiner/Concat                                                                        Concat                 0               0.00%       262,144     0.48%       0          0.00%       1x4x128x128    1x8x128x128\n",
      "/eyebrow_morphing_combiner/body/Reshape                                                                  Reshape                0               0.00%       56          0.00%       4          0.00%       1x12           1x12x1x1\n",
      "/eyebrow_morphing_combiner/Slice_3                                                                       Slice                  0               0.00%       98,328      0.18%       3          0.00%       1x4x128x128    1x3x128x128\n",
      "/eyebrow_morphing_combiner/Slice_5                                                                       Slice                  0               0.00%       32,776      0.06%       1          0.00%       1x4x128x128    1x1x128x128\n",
      "/eyebrow_morphing_combiner/body/downsample_blocks.0/downsample_blocks.0.0/Conv                           Conv                   1,179,648       0.08%       262,288     0.48%       72         0.00%       1x8x128x128    1x8x128x128\n",
      "/eyebrow_morphing_combiner/body/Tile                                                                     Tile                   0               0.00%       6,176       0.01%       4          0.00%       1x12x1x1       1x12x16x16\n",
      "/eyebrow_morphing_combiner/body/downsample_blocks.0/downsample_blocks.0.1/Conv                           Conv                   8,388,608       0.58%       2,098,176   3.83%       512        0.01%       1x8x128x128    1x64x128x128\n",
      "/eyebrow_morphing_combiner/body/downsample_blocks.0/downsample_blocks.0.2/InstanceNormalization          InstanceNormalization  7,340,032       0.51%       2,097,408   3.83%       128        0.00%       1x64x128x128   1x64x128x128\n",
      "/eyebrow_morphing_combiner/body/downsample_blocks.0/downsample_blocks.0.3/Relu                           Relu                   1,048,576       0.07%       2,097,152   3.83%       0          0.00%       1x64x128x128   1x64x128x128\n",
      "/eyebrow_morphing_combiner/body/downsample_blocks.1/downsample_blocks.1.0/Conv                           Conv                   4,194,304       0.29%       526,336     0.96%       1,024      0.03%       1x64x128x128   1x64x64x64\n",
      "/eyebrow_morphing_combiner/body/downsample_blocks.1/downsample_blocks.1.1/Conv                           Conv                   33,554,432      2.32%       1,064,960   1.94%       8,192      0.23%       1x64x64x64     1x128x64x64\n",
      "/eyebrow_morphing_combiner/body/downsample_blocks.1/downsample_blocks.1.2/InstanceNormalization          InstanceNormalization  3,670,016       0.25%       1,049,088   1.91%       256        0.01%       1x128x64x64    1x128x64x64\n",
      "/eyebrow_morphing_combiner/body/downsample_blocks.1/downsample_blocks.1.3/Relu                           Relu                   524,288         0.04%       1,048,576   1.91%       0          0.00%       1x128x64x64    1x128x64x64\n",
      "/eyebrow_morphing_combiner/body/downsample_blocks.2/downsample_blocks.2.0/Conv                           Conv                   2,097,152       0.15%       266,240     0.49%       2,048      0.06%       1x128x64x64    1x128x32x32\n",
      "/eyebrow_morphing_combiner/body/downsample_blocks.2/downsample_blocks.2.1/Conv                           Conv                   33,554,432      2.32%       589,824     1.08%       32,768     0.91%       1x128x32x32    1x256x32x32\n",
      "/eyebrow_morphing_combiner/body/downsample_blocks.2/downsample_blocks.2.2/InstanceNormalization          InstanceNormalization  1,835,008       0.13%       525,312     0.96%       512        0.01%       1x256x32x32    1x256x32x32\n",
      "/eyebrow_morphing_combiner/body/downsample_blocks.2/downsample_blocks.2.3/Relu                           Relu                   262,144         0.02%       524,288     0.96%       0          0.00%       1x256x32x32    1x256x32x32\n",
      "/eyebrow_morphing_combiner/body/downsample_blocks.3/downsample_blocks.3.0/Conv                           Conv                   1,048,576       0.07%       139,264     0.25%       4,096      0.11%       1x256x32x32    1x256x16x16\n",
      "/eyebrow_morphing_combiner/body/downsample_blocks.3/downsample_blocks.3.1/Conv                           Conv                   33,554,432      2.32%       524,288     0.96%       131,072    3.62%       1x256x16x16    1x512x16x16\n",
      "/eyebrow_morphing_combiner/body/downsample_blocks.3/downsample_blocks.3.2/InstanceNormalization          InstanceNormalization  917,504         0.06%       264,192     0.48%       1,024      0.03%       1x512x16x16    1x512x16x16\n",
      "/eyebrow_morphing_combiner/body/downsample_blocks.3/downsample_blocks.3.3/Relu                           Relu                   131,072         0.01%       262,144     0.48%       0          0.00%       1x512x16x16    1x512x16x16\n",
      "/eyebrow_morphing_combiner/body/Concat                                                                   Concat                 0               0.00%       268,288     0.49%       0          0.00%       1x512x16x16    1x524x16x16\n",
      "/eyebrow_morphing_combiner/body/bottleneck_blocks.0/bottleneck_blocks.0.0/Conv                           Conv                   1,207,296       0.08%       277,720     0.51%       4,716      0.13%       1x524x16x16    1x524x16x16\n",
      "/eyebrow_morphing_combiner/body/bottleneck_blocks.0/bottleneck_blocks.0.1/Conv                           Conv                   68,681,728      4.75%       798,720     1.46%       268,288    7.41%       1x524x16x16    1x512x16x16\n",
      "/eyebrow_morphing_combiner/body/bottleneck_blocks.0/bottleneck_blocks.0.2/InstanceNormalization          InstanceNormalization  917,504         0.06%       264,192     0.48%       1,024      0.03%       1x512x16x16    1x512x16x16\n",
      "/eyebrow_morphing_combiner/body/bottleneck_blocks.0/bottleneck_blocks.0.3/Relu                           Relu                   131,072         0.01%       262,144     0.48%       0          0.00%       1x512x16x16    1x512x16x16\n",
      "/eyebrow_morphing_combiner/body/bottleneck_blocks.1/resnet_path/resnet_path.0/resnet_path.0.0/Conv       Conv                   1,179,648       0.08%       271,360     0.50%       4,608      0.13%       1x512x16x16    1x512x16x16\n",
      "/eyebrow_morphing_combiner/body/bottleneck_blocks.1/resnet_path/resnet_path.0/resnet_path.0.1/Conv       Conv                   67,108,864      4.64%       786,432     1.43%       262,144    7.24%       1x512x16x16    1x512x16x16\n",
      "/eyebrow_morphing_combiner/body/bottleneck_blocks.1/resnet_path/resnet_path.1/InstanceNormalization      InstanceNormalization  917,504         0.06%       264,192     0.48%       1,024      0.03%       1x512x16x16    1x512x16x16\n",
      "/eyebrow_morphing_combiner/body/bottleneck_blocks.1/resnet_path/resnet_path.2/Relu                       Relu                   131,072         0.01%       262,144     0.48%       0          0.00%       1x512x16x16    1x512x16x16\n",
      "/eyebrow_morphing_combiner/body/bottleneck_blocks.1/resnet_path/resnet_path.3/resnet_path.3.0/Conv       Conv                   1,179,648       0.08%       271,360     0.50%       4,608      0.13%       1x512x16x16    1x512x16x16\n",
      "/eyebrow_morphing_combiner/body/bottleneck_blocks.1/resnet_path/resnet_path.3/resnet_path.3.1/Conv       Conv                   67,108,864      4.64%       786,432     1.43%       262,144    7.24%       1x512x16x16    1x512x16x16\n",
      "/eyebrow_morphing_combiner/body/bottleneck_blocks.1/resnet_path/resnet_path.4/InstanceNormalization      InstanceNormalization  917,504         0.06%       264,192     0.48%       1,024      0.03%       1x512x16x16    1x512x16x16\n",
      "/eyebrow_morphing_combiner/body/bottleneck_blocks.1/Add                                                  Add                    131,072         0.01%       262,144     0.48%       0          0.00%       1x512x16x16    1x512x16x16\n",
      "/eyebrow_morphing_combiner/body/bottleneck_blocks.2/resnet_path/resnet_path.0/resnet_path.0.0/Conv       Conv                   1,179,648       0.08%       271,360     0.50%       4,608      0.13%       1x512x16x16    1x512x16x16\n",
      "/eyebrow_morphing_combiner/body/bottleneck_blocks.2/resnet_path/resnet_path.0/resnet_path.0.1/Conv       Conv                   67,108,864      4.64%       786,432     1.43%       262,144    7.24%       1x512x16x16    1x512x16x16\n",
      "/eyebrow_morphing_combiner/body/bottleneck_blocks.2/resnet_path/resnet_path.1/InstanceNormalization      InstanceNormalization  917,504         0.06%       264,192     0.48%       1,024      0.03%       1x512x16x16    1x512x16x16\n",
      "/eyebrow_morphing_combiner/body/bottleneck_blocks.2/resnet_path/resnet_path.2/Relu                       Relu                   131,072         0.01%       262,144     0.48%       0          0.00%       1x512x16x16    1x512x16x16\n",
      "/eyebrow_morphing_combiner/body/bottleneck_blocks.2/resnet_path/resnet_path.3/resnet_path.3.0/Conv       Conv                   1,179,648       0.08%       271,360     0.50%       4,608      0.13%       1x512x16x16    1x512x16x16\n",
      "/eyebrow_morphing_combiner/body/bottleneck_blocks.2/resnet_path/resnet_path.3/resnet_path.3.1/Conv       Conv                   67,108,864      4.64%       786,432     1.43%       262,144    7.24%       1x512x16x16    1x512x16x16\n",
      "/eyebrow_morphing_combiner/body/bottleneck_blocks.2/resnet_path/resnet_path.4/InstanceNormalization      InstanceNormalization  917,504         0.06%       264,192     0.48%       1,024      0.03%       1x512x16x16    1x512x16x16\n",
      "/eyebrow_morphing_combiner/body/bottleneck_blocks.2/Add                                                  Add                    131,072         0.01%       262,144     0.48%       0          0.00%       1x512x16x16    1x512x16x16\n",
      "/eyebrow_morphing_combiner/body/bottleneck_blocks.3/resnet_path/resnet_path.0/resnet_path.0.0/Conv       Conv                   1,179,648       0.08%       271,360     0.50%       4,608      0.13%       1x512x16x16    1x512x16x16\n",
      "/eyebrow_morphing_combiner/body/bottleneck_blocks.3/resnet_path/resnet_path.0/resnet_path.0.1/Conv       Conv                   67,108,864      4.64%       786,432     1.43%       262,144    7.24%       1x512x16x16    1x512x16x16\n",
      "/eyebrow_morphing_combiner/body/bottleneck_blocks.3/resnet_path/resnet_path.1/InstanceNormalization      InstanceNormalization  917,504         0.06%       264,192     0.48%       1,024      0.03%       1x512x16x16    1x512x16x16\n",
      "/eyebrow_morphing_combiner/body/bottleneck_blocks.3/resnet_path/resnet_path.2/Relu                       Relu                   131,072         0.01%       262,144     0.48%       0          0.00%       1x512x16x16    1x512x16x16\n",
      "/eyebrow_morphing_combiner/body/bottleneck_blocks.3/resnet_path/resnet_path.3/resnet_path.3.0/Conv       Conv                   1,179,648       0.08%       271,360     0.50%       4,608      0.13%       1x512x16x16    1x512x16x16\n",
      "/eyebrow_morphing_combiner/body/bottleneck_blocks.3/resnet_path/resnet_path.3/resnet_path.3.1/Conv       Conv                   67,108,864      4.64%       786,432     1.43%       262,144    7.24%       1x512x16x16    1x512x16x16\n",
      "/eyebrow_morphing_combiner/body/bottleneck_blocks.3/resnet_path/resnet_path.4/InstanceNormalization      InstanceNormalization  917,504         0.06%       264,192     0.48%       1,024      0.03%       1x512x16x16    1x512x16x16\n",
      "/eyebrow_morphing_combiner/body/bottleneck_blocks.3/Add                                                  Add                    131,072         0.01%       262,144     0.48%       0          0.00%       1x512x16x16    1x512x16x16\n",
      "/eyebrow_morphing_combiner/body/bottleneck_blocks.4/resnet_path/resnet_path.0/resnet_path.0.0/Conv       Conv                   1,179,648       0.08%       271,360     0.50%       4,608      0.13%       1x512x16x16    1x512x16x16\n",
      "/eyebrow_morphing_combiner/body/bottleneck_blocks.4/resnet_path/resnet_path.0/resnet_path.0.1/Conv       Conv                   67,108,864      4.64%       786,432     1.43%       262,144    7.24%       1x512x16x16    1x512x16x16\n",
      "/eyebrow_morphing_combiner/body/bottleneck_blocks.4/resnet_path/resnet_path.1/InstanceNormalization      InstanceNormalization  917,504         0.06%       264,192     0.48%       1,024      0.03%       1x512x16x16    1x512x16x16\n",
      "/eyebrow_morphing_combiner/body/bottleneck_blocks.4/resnet_path/resnet_path.2/Relu                       Relu                   131,072         0.01%       262,144     0.48%       0          0.00%       1x512x16x16    1x512x16x16\n",
      "/eyebrow_morphing_combiner/body/bottleneck_blocks.4/resnet_path/resnet_path.3/resnet_path.3.0/Conv       Conv                   1,179,648       0.08%       271,360     0.50%       4,608      0.13%       1x512x16x16    1x512x16x16\n",
      "/eyebrow_morphing_combiner/body/bottleneck_blocks.4/resnet_path/resnet_path.3/resnet_path.3.1/Conv       Conv                   67,108,864      4.64%       786,432     1.43%       262,144    7.24%       1x512x16x16    1x512x16x16\n",
      "/eyebrow_morphing_combiner/body/bottleneck_blocks.4/resnet_path/resnet_path.4/InstanceNormalization      InstanceNormalization  917,504         0.06%       264,192     0.48%       1,024      0.03%       1x512x16x16    1x512x16x16\n",
      "/eyebrow_morphing_combiner/body/bottleneck_blocks.4/Add                                                  Add                    131,072         0.01%       262,144     0.48%       0          0.00%       1x512x16x16    1x512x16x16\n",
      "/eyebrow_morphing_combiner/body/bottleneck_blocks.5/resnet_path/resnet_path.0/resnet_path.0.0/Conv       Conv                   1,179,648       0.08%       271,360     0.50%       4,608      0.13%       1x512x16x16    1x512x16x16\n",
      "/eyebrow_morphing_combiner/body/bottleneck_blocks.5/resnet_path/resnet_path.0/resnet_path.0.1/Conv       Conv                   67,108,864      4.64%       786,432     1.43%       262,144    7.24%       1x512x16x16    1x512x16x16\n",
      "/eyebrow_morphing_combiner/body/bottleneck_blocks.5/resnet_path/resnet_path.1/InstanceNormalization      InstanceNormalization  917,504         0.06%       264,192     0.48%       1,024      0.03%       1x512x16x16    1x512x16x16\n",
      "/eyebrow_morphing_combiner/body/bottleneck_blocks.5/resnet_path/resnet_path.2/Relu                       Relu                   131,072         0.01%       262,144     0.48%       0          0.00%       1x512x16x16    1x512x16x16\n",
      "/eyebrow_morphing_combiner/body/bottleneck_blocks.5/resnet_path/resnet_path.3/resnet_path.3.0/Conv       Conv                   1,179,648       0.08%       271,360     0.50%       4,608      0.13%       1x512x16x16    1x512x16x16\n",
      "/eyebrow_morphing_combiner/body/bottleneck_blocks.5/resnet_path/resnet_path.3/resnet_path.3.1/Conv       Conv                   67,108,864      4.64%       786,432     1.43%       262,144    7.24%       1x512x16x16    1x512x16x16\n",
      "/eyebrow_morphing_combiner/body/bottleneck_blocks.5/resnet_path/resnet_path.4/InstanceNormalization      InstanceNormalization  917,504         0.06%       264,192     0.48%       1,024      0.03%       1x512x16x16    1x512x16x16\n",
      "/eyebrow_morphing_combiner/body/bottleneck_blocks.5/Add                                                  Add                    131,072         0.01%       262,144     0.48%       0          0.00%       1x512x16x16    1x512x16x16\n",
      "/eyebrow_morphing_combiner/body/upsample_blocks.0/upsample_blocks.0.0/ConvTranspose                      ConvTranspose          8,388,608       0.58%       1,064,960   1.94%       8,192      0.23%       1x512x16x16    1x512x32x32\n",
      "/eyebrow_morphing_combiner/body/upsample_blocks.0/upsample_blocks.0.1/Conv                               Conv                   134,217,728     9.28%       786,432     1.43%       131,072    3.62%       1x512x32x32    1x256x32x32\n",
      "/eyebrow_morphing_combiner/body/upsample_blocks.0/upsample_blocks.0.2/InstanceNormalization              InstanceNormalization  1,835,008       0.13%       525,312     0.96%       512        0.01%       1x256x32x32    1x256x32x32\n",
      "/eyebrow_morphing_combiner/body/upsample_blocks.0/upsample_blocks.0.3/Relu                               Relu                   262,144         0.02%       524,288     0.96%       0          0.00%       1x256x32x32    1x256x32x32\n",
      "/eyebrow_morphing_combiner/body/upsample_blocks.1/upsample_blocks.1.0/ConvTranspose                      ConvTranspose          16,777,216      1.16%       2,105,344   3.84%       4,096      0.11%       1x256x32x32    1x256x64x64\n",
      "/eyebrow_morphing_combiner/body/upsample_blocks.1/upsample_blocks.1.1/Conv                               Conv                   134,217,728     9.28%       1,114,112   2.03%       32,768     0.91%       1x256x64x64    1x128x64x64\n",
      "/eyebrow_morphing_combiner/body/upsample_blocks.1/upsample_blocks.1.2/InstanceNormalization              InstanceNormalization  3,670,016       0.25%       1,049,088   1.91%       256        0.01%       1x128x64x64    1x128x64x64\n",
      "/eyebrow_morphing_combiner/body/upsample_blocks.1/upsample_blocks.1.3/Relu                               Relu                   524,288         0.04%       1,048,576   1.91%       0          0.00%       1x128x64x64    1x128x64x64\n",
      "/eyebrow_morphing_combiner/body/upsample_blocks.2/upsample_blocks.2.0/ConvTranspose                      ConvTranspose          33,554,432      2.32%       4,198,400   7.66%       2,048      0.06%       1x128x64x64    1x128x128x128\n",
      "/eyebrow_morphing_combiner/body/upsample_blocks.2/upsample_blocks.2.1/Conv                               Conv                   134,217,728     9.28%       2,113,536   3.86%       8,192      0.23%       1x128x128x128  1x64x128x128\n",
      "/eyebrow_morphing_combiner/body/upsample_blocks.2/upsample_blocks.2.2/InstanceNormalization              InstanceNormalization  7,340,032       0.51%       2,097,408   3.83%       128        0.00%       1x64x128x128   1x64x128x128\n",
      "/eyebrow_morphing_combiner/body/upsample_blocks.2/upsample_blocks.2.3/Relu                               Relu                   1,048,576       0.07%       2,097,152   3.83%       0          0.00%       1x64x128x128   1x64x128x128\n",
      "/eyebrow_morphing_combiner/morphed_eyebrow_layer_grid_change/Conv                                        Conv                   18,874,368      1.31%       67,840      0.12%       1,152      0.03%       1x64x128x128   1x2x128x128\n",
      "/eyebrow_morphing_combiner/morphed_eyebrow_layer_alpha/morphed_eyebrow_layer_alpha.0/Conv                Conv                   9,453,568       0.65%       33,922      0.06%       577        0.02%       1x64x128x128   1x1x128x128\n",
      "/eyebrow_morphing_combiner/morphed_eyebrow_layer_color_change/morphed_eyebrow_layer_color_change.0/Conv  Conv                   37,814,272      2.62%       135,688     0.25%       2,308      0.06%       1x64x128x128   1x4x128x128\n",
      "/eyebrow_morphing_combiner/morphed_eyebrow_layer_alpha/morphed_eyebrow_layer_alpha.1/Sigmoid             Sigmoid                524,288         0.04%       32,768      0.06%       0          0.00%       1x1x128x128    1x1x128x128\n",
      "/eyebrow_morphing_combiner/morphed_eyebrow_layer_color_change/morphed_eyebrow_layer_color_change.1/Tanh  Tanh                   4,980,736       0.34%       131,072     0.24%       0          0.00%       1x4x128x128    1x4x128x128\n",
      "/eyebrow_morphing_combiner/Reshape                                                                       Reshape                0               0.00%       65,560      0.12%       3          0.00%       1x2x128x128    1x2x16384\n",
      "/eyebrow_morphing_combiner/Transpose                                                                     Transpose              0               0.00%       65,536      0.12%       0          0.00%       1x2x16384      1x16384x2\n",
      "/eyebrow_morphing_combiner/Mul_12                                                                        Mul                    65,536          0.00%       131,072     0.24%       0          0.00%       1x4x128x128    1x4x128x128\n",
      "/eyebrow_morphing_combiner/Sub                                                                           Sub                    16,384          0.00%       32,768      0.06%       0          0.00%       0              1x1x128x128\n",
      "/eyebrow_morphing_combiner/Reshape_1                                                                     Reshape                0               0.00%       65,568      0.12%       4          0.00%       1x16384x2      1x128x128x2\n",
      "/eyebrow_morphing_combiner/Add                                                                           Add                    32,768          0.00%       131,072     0.24%       32,768     0.91%       1x128x128x2    1x128x128x2\n",
      "/eyebrow_morphing_combiner/GridSample                                                                    GridSample             0               0.00%       131,072     0.24%       0          0.00%       1x4x128x128    1x4x128x128\n",
      "/eyebrow_morphing_combiner/Mul_13                                                                        Mul                    65,536          0.00%       131,072     0.24%       0          0.00%       1x4x128x128    1x4x128x128\n",
      "/eyebrow_morphing_combiner/Add_1                                                                         Add                    65,536          0.00%       131,072     0.24%       0          0.00%       1x4x128x128    1x4x128x128\n",
      "/eyebrow_morphing_combiner/Slice_2                                                                       Slice                  0               0.00%       32,768      0.06%       0          0.00%       1x4x128x128    1x1x128x128\n",
      "/eyebrow_morphing_combiner/Slice_4                                                                       Slice                  0               0.00%       98,304      0.18%       0          0.00%       1x4x128x128    1x3x128x128\n",
      "/eyebrow_morphing_combiner/Add_2                                                                         Add                    16,384          0.00%       32,768      0.06%       0          0.00%       1x1x128x128    1x1x128x128\n",
      "/eyebrow_morphing_combiner/Div                                                                           Div                    65,536          0.00%       32,768      0.06%       0          0.00%       1x1x128x128    1x1x128x128\n",
      "/eyebrow_morphing_combiner/Mul_14                                                                        Mul                    49,152          0.00%       98,304      0.18%       0          0.00%       1x3x128x128    1x3x128x128\n",
      "/eyebrow_morphing_combiner/Sub_1                                                                         Sub                    16,384          0.00%       32,768      0.06%       0          0.00%       0              1x1x128x128\n",
      "/eyebrow_morphing_combiner/Mul_15                                                                        Mul                    49,152          0.00%       98,304      0.18%       0          0.00%       1x3x128x128    1x3x128x128\n",
      "/eyebrow_morphing_combiner/Add_3                                                                         Add                    49,152          0.00%       98,304      0.18%       0          0.00%       1x3x128x128    1x3x128x128\n",
      "/eyebrow_morphing_combiner/Concat_6                                                                      Concat                 0               0.00%       131,072     0.24%       0          0.00%       1x3x128x128    1x4x128x128\n",
      "/ScatterND                                                                                               ScatterND              0               0.00%       2,392,064   4.36%       262,144    7.24%       1x4x192x192    1x4x192x192\n",
      "Total                                                                                                    _                      1,445,800,960   100%        54,804,450  100%        3,619,732  100%        _              _\n"
     ]
    }
   ],
   "source": [
    "onnx_tool.model_profile(EYEBROW_MORPHING_COMBINER_SIMPLIFIED_ONNX_MODEL_NAME, None, None)"
   ]
  },
  {
   "cell_type": "code",
   "execution_count": 14,
   "id": "b7dd96ac-0d84-4c3a-8b1f-3c1279b5a798",
   "metadata": {},
   "outputs": [
    {
     "name": "stderr",
     "output_type": "stream",
     "text": [
      "100%|███████████████████████████████████████████████████████████████████████████████| 100/100 [00:00<00:00, 128.15it/s]\n",
      "100%|████████████████████████████████████████████████████████████████████████████████| 100/100 [00:01<00:00, 85.44it/s]\n"
     ]
    }
   ],
   "source": [
    "# Small bench on cpu to check performance\n",
    "for i in tqdm(range(100)):\n",
    "    eyebrow_morphing_combiner(eyebrow_decomposer_torch_res[3], eyebrow_decomposer_torch_res[0], eyebrow_pose_zero)\n",
    "for i in tqdm(range(100)):\n",
    "    ort_sess_sim.run(None,input_dict)"
   ]
  },
  {
   "cell_type": "code",
   "execution_count": 15,
   "id": "4bde98d0-2c20-49f3-a3fc-d84d92072f59",
   "metadata": {
    "scrolled": true
   },
   "outputs": [
    {
     "name": "stdout",
     "output_type": "stream",
     "text": [
      "float16 (1, 4, 512, 512) 1.0 -1.0 -0.864\n",
      "float16 (1, 4, 256, 256) 1.0 -1.0 -0.864\n",
      "float16 (1, 4, 512, 512) 1.0 -1.0 -0.864\n",
      "float16 (1, 4, 256, 256) 1.0 -1.0 -0.864\n",
      "MSE is:  6.26e-06\n",
      "MSE is:  2.1e-06\n"
     ]
    }
   ],
   "source": [
    "#Play with face morpher\n",
    "FACE_POSE_SHAPE = (1,27)\n",
    "face_pose_zero = torch.zeros(FACE_POSE_SHAPE, dtype=dtype, device=device)\n",
    "face_morpher_torch_res = face_morpher(im_morpher_crop, face_pose_zero)\n",
    "face_morphed_full = pt_img.clone()\n",
    "face_morphed_full[:, :, 32:32 + 192, 32 + 128:32 + 192 + 128] = face_morpher_torch_res[0]\n",
    "face_morphed_half = interpolate(face_morphed_full, size=(256, 256), mode='bilinear', align_corners=False)\n",
    "\n",
    "\n",
    "class FaceMorpherWrapped(Module):\n",
    "    def __init__(self, face_morpher_obj):\n",
    "        super().__init__()\n",
    "        self.face_morpher = face_morpher_obj\n",
    "    def forward(self, input_image: Tensor, im_morpher_crop: Tensor, face_pose:Tensor,  *args) -> List[Tensor]:\n",
    "        face_morphed_full = input_image.clone()\n",
    "        face_morphed_full[:, :, 32:32 + 192, 32 + 128:32 + 192 + 128] = self.face_morpher(im_morpher_crop, face_pose)[0]\n",
    "        face_morphed_half = interpolate(face_morphed_full, size=(256, 256), mode='bilinear', align_corners=False)\n",
    "        return [face_morphed_full, face_morphed_half]\n",
    "face_morpher_wrapped = FaceMorpherWrapped(face_morpher).eval()\n",
    "face_morpher_wrapped_torch_res = face_morpher_wrapped(pt_img, eyebrow_morphing_combiner_wrapped_torch_res, face_pose_zero) #May be error\n",
    "\n",
    "FACE_MORPHER_ONNX_MODEL_NAME = 'face_morpher.onnx'\n",
    "FACE_MORPHER_SIM_ONNX_MODEL_NAME = 'face_morpher_sim.onnx'\n",
    "\n",
    "FACE_MORPHER_OUTPUT_LIST = ['face_morphed_full', 'face_morphed_half']\n",
    "FACE_MORPHER_INPUT_LIST = ['input_image', 'im_morpher_crop', 'face_pose']\n",
    "input_tuple = (pt_img, eyebrow_morphing_combiner_wrapped_torch_res, face_pose_zero)\n",
    "input_dict = {k:v.cpu().detach().numpy() for k,v in zip(FACE_MORPHER_INPUT_LIST,input_tuple)}\n",
    "\n",
    "torch.onnx.export(face_morpher_wrapped,               # model being run\n",
    "                  input_tuple,                         # model input (or a tuple for multiple inputs)\n",
    "                  FACE_MORPHER_ONNX_MODEL_NAME,   # where to save the model (can be a file or file-like object)\n",
    "                  export_params=True,        # store the trained parameter weights inside the model file\n",
    "                  opset_version=16,          # the ONNX version to export the model to\n",
    "                  do_constant_folding=True,  # whether to execute constant folding for optimization\n",
    "                  input_names = FACE_MORPHER_INPUT_LIST,   # the model's input names\n",
    "                  output_names = FACE_MORPHER_OUTPUT_LIST) \n",
    "\n",
    "onnx_model = onnx.load(FACE_MORPHER_ONNX_MODEL_NAME)\n",
    "onnx.checker.check_model(onnx_model)\n",
    "onnx_model_sim, check = simplify(onnx_model)\n",
    "if check:\n",
    "    onnx.save(onnx_model_sim,FACE_MORPHER_SIM_ONNX_MODEL_NAME)\n",
    "else:\n",
    "    print(\"Simplify error!\")\n",
    "\n",
    "ort_sess_sim = ort.InferenceSession(FACE_MORPHER_SIM_ONNX_MODEL_NAME, sess_options=sess_options, providers=providers)\n",
    "onnx_sim_output = ort_sess_sim.run(None,input_dict)\n",
    "\n",
    "printInfo(onnx_sim_output[0])\n",
    "printInfo(onnx_sim_output[1])\n",
    "printInfo(face_morphed_full.cpu().detach().numpy())\n",
    "printInfo(face_morphed_half.cpu().detach().numpy())\n",
    "print(\"MSE is: \",((onnx_sim_output[0] - face_morphed_full.cpu().detach().numpy()) ** 2).mean())\n",
    "print(\"MSE is: \",((onnx_sim_output[1] - face_morphed_half.cpu().detach().numpy()) ** 2).mean())"
   ]
  },
  {
   "cell_type": "code",
   "execution_count": 16,
   "id": "88297d1d-4eb0-48be-a583-cc3bb06c3847",
   "metadata": {},
   "outputs": [
    {
     "name": "stderr",
     "output_type": "stream",
     "text": [
      "100%|███████████████████████████████████████████████████████████████████████████████| 100/100 [00:00<00:00, 130.15it/s]\n",
      "100%|████████████████████████████████████████████████████████████████████████████████| 100/100 [00:01<00:00, 75.14it/s]\n"
     ]
    }
   ],
   "source": [
    "for i in tqdm(range(100)):\n",
    "    face_morpher(im_morpher_crop, face_pose_zero)\n",
    "for i in tqdm(range(100)):\n",
    "    ort_sess_sim.run(None,input_dict)"
   ]
  },
  {
   "cell_type": "code",
   "execution_count": 17,
   "id": "55e44e1d-79e0-4c85-9e68-30f23b07bb55",
   "metadata": {},
   "outputs": [],
   "source": [
    "# Try to split out the Encoder part of the mopher model\n",
    "FACE_MORPHER_ENCODER = 'face_morpher_sim_encoder.onnx'\n",
    "onnx.utils.extract_model(FACE_MORPHER_SIM_ONNX_MODEL_NAME, FACE_MORPHER_ENCODER, ['im_morpher_crop'], \n",
    "                         ['/face_morpher/body/downsample_blocks.3/downsample_blocks.3.3/Relu_output_0'])\n",
    "onnx.checker.check_model(onnx.load(FACE_MORPHER_ENCODER))\n",
    "FACE_MORPHER_NEW = 'face_morpher_new.onnx'\n",
    "onnx.utils.extract_model(FACE_MORPHER_SIM_ONNX_MODEL_NAME, FACE_MORPHER_NEW, \n",
    "                         ['input_image','im_morpher_crop','face_pose',\n",
    "                          '/face_morpher/body/downsample_blocks.3/downsample_blocks.3.3/Relu_output_0'], \n",
    "                         ['face_morphed_full', 'face_morphed_half'])\n",
    "onnx.checker.check_model(onnx.load(FACE_MORPHER_NEW))"
   ]
  },
  {
   "cell_type": "code",
   "execution_count": 18,
   "id": "6a7fdab3-7ee4-4050-a9ea-585adc4014af",
   "metadata": {},
   "outputs": [],
   "source": [
    "EYEBROW_COMBINER_NEW = 'eyebrow_morphing_combiner_new.onnx'\n",
    "eyebrow_combiner_model =  onnx.load(EYEBROW_MORPHING_COMBINER_SIMPLIFIED_ONNX_MODEL_NAME)\n",
    "face_morpher_encoder_model = onnx.load(FACE_MORPHER_ENCODER)\n",
    "\n",
    "eyebrow_combiner_new_model = onnx.compose.merge_models(\n",
    "    eyebrow_combiner_model, face_morpher_encoder_model,\n",
    "    io_map=[(\"eyebrow_image\", \"im_morpher_crop\")]\n",
    ")\n",
    "onnx.save(eyebrow_combiner_new_model, \"temp.onnx\")\n",
    "onnx.utils.extract_model(\"temp.onnx\", EYEBROW_COMBINER_NEW, ['input_image', 'eyebrow_background_layer', 'eyebrow_layer', 'eyebrow_pose'], \n",
    "                         ['eyebrow_image', '/face_morpher/body/downsample_blocks.3/downsample_blocks.3.3/Relu_output_0'])\n",
    "onnx.checker.check_model(onnx.load(EYEBROW_COMBINER_NEW))"
   ]
  },
  {
   "cell_type": "code",
   "execution_count": 19,
   "id": "fca887e2-1a94-460b-8c7f-1a13dd30d2df",
   "metadata": {
    "scrolled": true
   },
   "outputs": [
    {
     "name": "stdout",
     "output_type": "stream",
     "text": [
      "Name                                                                                    Type                   Forward_MACs    FPercent    Memory      MPercent    Params     PPercent    InShape        OutShape\n",
      "--------------------------------------------------------------------------------------  ---------------------  --------------  ----------  ----------  ----------  ---------  ----------  -------------  -------------\n",
      "/face_morpher/body/Reshape                                                              Reshape                0               0.00%       86          0.00%       4          0.00%       1x27           1x27x1x1\n",
      "/face_morpher/body/Tile                                                                 Tile                   0               0.00%       31,136      0.04%       4          0.00%       1x27x1x1       1x27x24x24\n",
      "/face_morpher/body/Concat                                                               Concat                 0               0.00%       620,928     0.72%       0          0.00%       1x512x24x24    1x539x24x24\n",
      "/face_morpher/body/bottleneck_blocks.0/bottleneck_blocks.0.0/Conv                       Conv                   2,794,176       0.09%       630,630     0.73%       4,851      0.13%       1x539x24x24    1x539x24x24\n",
      "/face_morpher/body/bottleneck_blocks.0/bottleneck_blocks.0.1/Conv                       Conv                   158,957,568     5.17%       1,141,760   1.33%       275,968    7.23%       1x539x24x24    1x512x24x24\n",
      "/face_morpher/body/bottleneck_blocks.0/bottleneck_blocks.0.2/InstanceNormalization      InstanceNormalization  2,064,384       0.07%       591,872     0.69%       1,024      0.03%       1x512x24x24    1x512x24x24\n",
      "/face_morpher/body/bottleneck_blocks.0/bottleneck_blocks.0.3/Relu                       Relu                   294,912         0.01%       589,824     0.68%       0          0.00%       1x512x24x24    1x512x24x24\n",
      "/face_morpher/body/bottleneck_blocks.1/resnet_path/resnet_path.0/resnet_path.0.0/Conv   Conv                   2,654,208       0.09%       599,040     0.70%       4,608      0.12%       1x512x24x24    1x512x24x24\n",
      "/face_morpher/body/bottleneck_blocks.1/resnet_path/resnet_path.0/resnet_path.0.1/Conv   Conv                   150,994,944     4.91%       1,114,112   1.29%       262,144    6.87%       1x512x24x24    1x512x24x24\n",
      "/face_morpher/body/bottleneck_blocks.1/resnet_path/resnet_path.1/InstanceNormalization  InstanceNormalization  2,064,384       0.07%       591,872     0.69%       1,024      0.03%       1x512x24x24    1x512x24x24\n",
      "/face_morpher/body/bottleneck_blocks.1/resnet_path/resnet_path.2/Relu                   Relu                   294,912         0.01%       589,824     0.68%       0          0.00%       1x512x24x24    1x512x24x24\n",
      "/face_morpher/body/bottleneck_blocks.1/resnet_path/resnet_path.3/resnet_path.3.0/Conv   Conv                   2,654,208       0.09%       599,040     0.70%       4,608      0.12%       1x512x24x24    1x512x24x24\n",
      "/face_morpher/body/bottleneck_blocks.1/resnet_path/resnet_path.3/resnet_path.3.1/Conv   Conv                   150,994,944     4.91%       1,114,112   1.29%       262,144    6.87%       1x512x24x24    1x512x24x24\n",
      "/face_morpher/body/bottleneck_blocks.1/resnet_path/resnet_path.4/InstanceNormalization  InstanceNormalization  2,064,384       0.07%       591,872     0.69%       1,024      0.03%       1x512x24x24    1x512x24x24\n",
      "/face_morpher/body/bottleneck_blocks.1/Add                                              Add                    294,912         0.01%       589,824     0.68%       0          0.00%       1x512x24x24    1x512x24x24\n",
      "/face_morpher/body/bottleneck_blocks.2/resnet_path/resnet_path.0/resnet_path.0.0/Conv   Conv                   2,654,208       0.09%       599,040     0.70%       4,608      0.12%       1x512x24x24    1x512x24x24\n",
      "/face_morpher/body/bottleneck_blocks.2/resnet_path/resnet_path.0/resnet_path.0.1/Conv   Conv                   150,994,944     4.91%       1,114,112   1.29%       262,144    6.87%       1x512x24x24    1x512x24x24\n",
      "/face_morpher/body/bottleneck_blocks.2/resnet_path/resnet_path.1/InstanceNormalization  InstanceNormalization  2,064,384       0.07%       591,872     0.69%       1,024      0.03%       1x512x24x24    1x512x24x24\n",
      "/face_morpher/body/bottleneck_blocks.2/resnet_path/resnet_path.2/Relu                   Relu                   294,912         0.01%       589,824     0.68%       0          0.00%       1x512x24x24    1x512x24x24\n",
      "/face_morpher/body/bottleneck_blocks.2/resnet_path/resnet_path.3/resnet_path.3.0/Conv   Conv                   2,654,208       0.09%       599,040     0.70%       4,608      0.12%       1x512x24x24    1x512x24x24\n",
      "/face_morpher/body/bottleneck_blocks.2/resnet_path/resnet_path.3/resnet_path.3.1/Conv   Conv                   150,994,944     4.91%       1,114,112   1.29%       262,144    6.87%       1x512x24x24    1x512x24x24\n",
      "/face_morpher/body/bottleneck_blocks.2/resnet_path/resnet_path.4/InstanceNormalization  InstanceNormalization  2,064,384       0.07%       591,872     0.69%       1,024      0.03%       1x512x24x24    1x512x24x24\n",
      "/face_morpher/body/bottleneck_blocks.2/Add                                              Add                    294,912         0.01%       589,824     0.68%       0          0.00%       1x512x24x24    1x512x24x24\n",
      "/face_morpher/body/bottleneck_blocks.3/resnet_path/resnet_path.0/resnet_path.0.0/Conv   Conv                   2,654,208       0.09%       599,040     0.70%       4,608      0.12%       1x512x24x24    1x512x24x24\n",
      "/face_morpher/body/bottleneck_blocks.3/resnet_path/resnet_path.0/resnet_path.0.1/Conv   Conv                   150,994,944     4.91%       1,114,112   1.29%       262,144    6.87%       1x512x24x24    1x512x24x24\n",
      "/face_morpher/body/bottleneck_blocks.3/resnet_path/resnet_path.1/InstanceNormalization  InstanceNormalization  2,064,384       0.07%       591,872     0.69%       1,024      0.03%       1x512x24x24    1x512x24x24\n",
      "/face_morpher/body/bottleneck_blocks.3/resnet_path/resnet_path.2/Relu                   Relu                   294,912         0.01%       589,824     0.68%       0          0.00%       1x512x24x24    1x512x24x24\n",
      "/face_morpher/body/bottleneck_blocks.3/resnet_path/resnet_path.3/resnet_path.3.0/Conv   Conv                   2,654,208       0.09%       599,040     0.70%       4,608      0.12%       1x512x24x24    1x512x24x24\n",
      "/face_morpher/body/bottleneck_blocks.3/resnet_path/resnet_path.3/resnet_path.3.1/Conv   Conv                   150,994,944     4.91%       1,114,112   1.29%       262,144    6.87%       1x512x24x24    1x512x24x24\n",
      "/face_morpher/body/bottleneck_blocks.3/resnet_path/resnet_path.4/InstanceNormalization  InstanceNormalization  2,064,384       0.07%       591,872     0.69%       1,024      0.03%       1x512x24x24    1x512x24x24\n",
      "/face_morpher/body/bottleneck_blocks.3/Add                                              Add                    294,912         0.01%       589,824     0.68%       0          0.00%       1x512x24x24    1x512x24x24\n",
      "/face_morpher/body/bottleneck_blocks.4/resnet_path/resnet_path.0/resnet_path.0.0/Conv   Conv                   2,654,208       0.09%       599,040     0.70%       4,608      0.12%       1x512x24x24    1x512x24x24\n",
      "/face_morpher/body/bottleneck_blocks.4/resnet_path/resnet_path.0/resnet_path.0.1/Conv   Conv                   150,994,944     4.91%       1,114,112   1.29%       262,144    6.87%       1x512x24x24    1x512x24x24\n",
      "/face_morpher/body/bottleneck_blocks.4/resnet_path/resnet_path.1/InstanceNormalization  InstanceNormalization  2,064,384       0.07%       591,872     0.69%       1,024      0.03%       1x512x24x24    1x512x24x24\n",
      "/face_morpher/body/bottleneck_blocks.4/resnet_path/resnet_path.2/Relu                   Relu                   294,912         0.01%       589,824     0.68%       0          0.00%       1x512x24x24    1x512x24x24\n",
      "/face_morpher/body/bottleneck_blocks.4/resnet_path/resnet_path.3/resnet_path.3.0/Conv   Conv                   2,654,208       0.09%       599,040     0.70%       4,608      0.12%       1x512x24x24    1x512x24x24\n",
      "/face_morpher/body/bottleneck_blocks.4/resnet_path/resnet_path.3/resnet_path.3.1/Conv   Conv                   150,994,944     4.91%       1,114,112   1.29%       262,144    6.87%       1x512x24x24    1x512x24x24\n",
      "/face_morpher/body/bottleneck_blocks.4/resnet_path/resnet_path.4/InstanceNormalization  InstanceNormalization  2,064,384       0.07%       591,872     0.69%       1,024      0.03%       1x512x24x24    1x512x24x24\n",
      "/face_morpher/body/bottleneck_blocks.4/Add                                              Add                    294,912         0.01%       589,824     0.68%       0          0.00%       1x512x24x24    1x512x24x24\n",
      "/face_morpher/body/bottleneck_blocks.5/resnet_path/resnet_path.0/resnet_path.0.0/Conv   Conv                   2,654,208       0.09%       599,040     0.70%       4,608      0.12%       1x512x24x24    1x512x24x24\n",
      "/face_morpher/body/bottleneck_blocks.5/resnet_path/resnet_path.0/resnet_path.0.1/Conv   Conv                   150,994,944     4.91%       1,114,112   1.29%       262,144    6.87%       1x512x24x24    1x512x24x24\n",
      "/face_morpher/body/bottleneck_blocks.5/resnet_path/resnet_path.1/InstanceNormalization  InstanceNormalization  2,064,384       0.07%       591,872     0.69%       1,024      0.03%       1x512x24x24    1x512x24x24\n",
      "/face_morpher/body/bottleneck_blocks.5/resnet_path/resnet_path.2/Relu                   Relu                   294,912         0.01%       589,824     0.68%       0          0.00%       1x512x24x24    1x512x24x24\n",
      "/face_morpher/body/bottleneck_blocks.5/resnet_path/resnet_path.3/resnet_path.3.0/Conv   Conv                   2,654,208       0.09%       599,040     0.70%       4,608      0.12%       1x512x24x24    1x512x24x24\n",
      "/face_morpher/body/bottleneck_blocks.5/resnet_path/resnet_path.3/resnet_path.3.1/Conv   Conv                   150,994,944     4.91%       1,114,112   1.29%       262,144    6.87%       1x512x24x24    1x512x24x24\n",
      "/face_morpher/body/bottleneck_blocks.5/resnet_path/resnet_path.4/InstanceNormalization  InstanceNormalization  2,064,384       0.07%       591,872     0.69%       1,024      0.03%       1x512x24x24    1x512x24x24\n",
      "/face_morpher/body/bottleneck_blocks.5/Add                                              Add                    294,912         0.01%       589,824     0.68%       0          0.00%       1x512x24x24    1x512x24x24\n",
      "/face_morpher/body/upsample_blocks.0/upsample_blocks.0.0/ConvTranspose                  ConvTranspose          18,874,368      0.61%       2,375,680   2.76%       8,192      0.21%       1x512x24x24    1x512x48x48\n",
      "/face_morpher/body/upsample_blocks.0/upsample_blocks.0.1/Conv                           Conv                   301,989,888     9.81%       1,441,792   1.67%       131,072    3.43%       1x512x48x48    1x256x48x48\n",
      "/face_morpher/body/upsample_blocks.0/upsample_blocks.0.2/InstanceNormalization          InstanceNormalization  4,128,768       0.13%       1,180,672   1.37%       512        0.01%       1x256x48x48    1x256x48x48\n",
      "/face_morpher/body/upsample_blocks.0/upsample_blocks.0.3/Relu                           Relu                   589,824         0.02%       1,179,648   1.37%       0          0.00%       1x256x48x48    1x256x48x48\n",
      "/face_morpher/body/upsample_blocks.1/upsample_blocks.1.0/ConvTranspose                  ConvTranspose          37,748,736      1.23%       4,726,784   5.49%       4,096      0.11%       1x256x48x48    1x256x96x96\n",
      "/face_morpher/body/upsample_blocks.1/upsample_blocks.1.1/Conv                           Conv                   301,989,888     9.81%       2,424,832   2.81%       32,768     0.86%       1x256x96x96    1x128x96x96\n",
      "/face_morpher/body/upsample_blocks.1/upsample_blocks.1.2/InstanceNormalization          InstanceNormalization  8,257,536       0.27%       2,359,808   2.74%       256        0.01%       1x128x96x96    1x128x96x96\n",
      "/face_morpher/body/upsample_blocks.1/upsample_blocks.1.3/Relu                           Relu                   1,179,648       0.04%       2,359,296   2.74%       0          0.00%       1x128x96x96    1x128x96x96\n",
      "/face_morpher/body/upsample_blocks.2/upsample_blocks.2.0/ConvTranspose                  ConvTranspose          75,497,472      2.45%       9,441,280   10.96%      2,048      0.05%       1x128x96x96    1x128x192x192\n",
      "/face_morpher/body/upsample_blocks.2/upsample_blocks.2.1/Conv                           Conv                   301,989,888     9.81%       4,734,976   5.50%       8,192      0.21%       1x128x192x192  1x64x192x192\n",
      "/face_morpher/body/upsample_blocks.2/upsample_blocks.2.2/InstanceNormalization          InstanceNormalization  16,515,072      0.54%       4,718,848   5.48%       128        0.00%       1x64x192x192   1x64x192x192\n",
      "/face_morpher/body/upsample_blocks.2/upsample_blocks.2.3/Relu                           Relu                   2,359,296       0.08%       4,718,592   5.48%       0          0.00%       1x64x192x192   1x64x192x192\n",
      "/face_morpher/iris_mouth_grid_change/Conv                                               Conv                   42,467,328      1.38%       149,760     0.17%       1,152      0.03%       1x64x192x192   1x2x192x192\n",
      "/face_morpher/iris_mouth_color_change/iris_mouth_color_change.0/Conv                    Conv                   85,082,112      2.76%       299,528     0.35%       2,308      0.06%       1x64x192x192   1x4x192x192\n",
      "/face_morpher/iris_mouth_alpha/iris_mouth_alpha.0/Conv                                  Conv                   21,270,528      0.69%       74,882      0.09%       577        0.02%       1x64x192x192   1x1x192x192\n",
      "/face_morpher/eye_color_change/eye_color_change.0/Conv                                  Conv                   85,082,112      2.76%       299,528     0.35%       2,308      0.06%       1x64x192x192   1x4x192x192\n",
      "/face_morpher/eye_alpha/eye_alpha.0/Conv                                                Conv                   21,270,528      0.69%       74,882      0.09%       577        0.02%       1x64x192x192   1x1x192x192\n",
      "/face_morpher/Reshape                                                                   Reshape                0               0.00%       147,480     0.17%       3          0.00%       1x2x192x192    1x2x36864\n",
      "/face_morpher/iris_mouth_color_change/iris_mouth_color_change.1/Tanh                    Tanh                   11,206,656      0.36%       294,912     0.34%       0          0.00%       1x4x192x192    1x4x192x192\n",
      "/face_morpher/iris_mouth_alpha/iris_mouth_alpha.1/Sigmoid                               Sigmoid                1,179,648       0.04%       73,728      0.09%       0          0.00%       1x1x192x192    1x1x192x192\n",
      "/face_morpher/eye_color_change/eye_color_change.1/Tanh                                  Tanh                   11,206,656      0.36%       294,912     0.34%       0          0.00%       1x4x192x192    1x4x192x192\n",
      "/face_morpher/eye_alpha/eye_alpha.1/Sigmoid                                             Sigmoid                1,179,648       0.04%       73,728      0.09%       0          0.00%       1x1x192x192    1x1x192x192\n",
      "/face_morpher/Transpose                                                                 Transpose              0               0.00%       147,456     0.17%       0          0.00%       1x2x36864      1x36864x2\n",
      "/face_morpher/Mul_12                                                                    Mul                    147,456         0.00%       294,912     0.34%       0          0.00%       1x4x192x192    1x4x192x192\n",
      "/face_morpher/Sub                                                                       Sub                    36,864          0.00%       73,728      0.09%       0          0.00%       0              1x1x192x192\n",
      "/face_morpher/Mul_14                                                                    Mul                    147,456         0.00%       294,912     0.34%       0          0.00%       1x4x192x192    1x4x192x192\n",
      "/face_morpher/Sub_1                                                                     Sub                    36,864          0.00%       73,728      0.09%       0          0.00%       0              1x1x192x192\n",
      "/face_morpher/Reshape_1                                                                 Reshape                0               0.00%       147,488     0.17%       4          0.00%       1x36864x2      1x192x192x2\n",
      "/face_morpher/Add                                                                       Add                    73,728          0.00%       294,912     0.34%       73,728     1.93%       1x192x192x2    1x192x192x2\n",
      "/face_morpher/GridSample                                                                GridSample             0               0.00%       294,912     0.34%       0          0.00%       1x4x192x192    1x4x192x192\n",
      "/face_morpher/Mul_13                                                                    Mul                    147,456         0.00%       294,912     0.34%       0          0.00%       1x4x192x192    1x4x192x192\n",
      "/face_morpher/Add_1                                                                     Add                    147,456         0.00%       294,912     0.34%       0          0.00%       1x4x192x192    1x4x192x192\n",
      "/face_morpher/Mul_15                                                                    Mul                    147,456         0.00%       294,912     0.34%       0          0.00%       1x4x192x192    1x4x192x192\n",
      "/face_morpher/Add_2                                                                     Add                    147,456         0.00%       294,912     0.34%       0          0.00%       1x4x192x192    1x4x192x192\n",
      "/ScatterND                                                                              ScatterND              0               0.00%       6,815,744   7.91%       589,824    15.45%      1x4x512x512    1x4x512x512\n",
      "/Resize                                                                                 Resize                 1,048,576       0.03%       524,320     0.61%       4          0.00%       1x4x512x512    1x4x256x256\n",
      "Total                                                                                   _                      3,077,341,888   100%        86,142,024  100%        3,817,360  100%        _              _\n"
     ]
    }
   ],
   "source": [
    "onnx_tool.model_profile(\"face_morpher_new.onnx\", None, None)"
   ]
  },
  {
   "cell_type": "code",
   "execution_count": 20,
   "id": "73b5ec99-8934-4344-9134-f26ab5f1bad4",
   "metadata": {
    "scrolled": true
   },
   "outputs": [
    {
     "name": "stdout",
     "output_type": "stream",
     "text": [
      "float16 (1, 4, 512, 512) 1.0 -1.0 -0.867\n",
      "float16 (1, 2, 512, 512) 0.4192 -0.531 -0.005383\n",
      "float16 (1, 4, 512, 512) 1.0 -1.0 -0.867\n",
      "float16 (1, 2, 512, 512) 0.42 -0.531 -0.005383\n",
      "MSE is:  2.3e-06\n",
      "MSE is:  0.0\n"
     ]
    }
   ],
   "source": [
    "ROTATION_POSE_SHAPE = (1,6)\n",
    "rotation_pose_zero = torch.zeros(ROTATION_POSE_SHAPE, dtype=dtype, device=device)\n",
    "two_algo_face_body_rotator_torch_res = two_algo_face_body_rotator(face_morphed_half, rotation_pose_zero)\n",
    "class TwoAlgoFaceBodyRotatorWrapped(Module):\n",
    "    def __init__(self, two_algo_face_body_rotator_obj):\n",
    "        super().__init__()\n",
    "        self.two_algo_face_body_rotator = two_algo_face_body_rotator_obj\n",
    "    def forward(self, image: Tensor, pose: Tensor, *args) -> List[Tensor]:\n",
    "        res = self.two_algo_face_body_rotator(image, pose)\n",
    "        full_warped_image = interpolate(res[1], size=(512, 512), mode='bilinear', align_corners=False)\n",
    "        full_grid_change = interpolate(res[2], size=(512, 512), mode='bilinear', align_corners=False)\n",
    "        return [full_warped_image, full_grid_change]\n",
    "two_algo_face_body_rotator_wrapped = TwoAlgoFaceBodyRotatorWrapped(two_algo_face_body_rotator)\n",
    "rotator_wrapped_torch_res = two_algo_face_body_rotator_wrapped(face_morpher_wrapped_torch_res[1], rotation_pose_zero)\n",
    "\n",
    "ROTATOR_ONNX_MODEL_NAME = 'two_algo_face_body_rotator.onnx'\n",
    "ROTATOR_SIM_ONNX_MODEL_NAME = 'two_algo_face_body_rotator_sim.onnx'\n",
    "\n",
    "ROTATOR_OUTPUT_LIST = ['full_warped_image', 'full_grid_change']\n",
    "ROTATOR_INPUT_LIST = ['face_morphed_half', 'rotation_pose']\n",
    "input_tuple = (face_morpher_wrapped_torch_res[1], rotation_pose_zero)\n",
    "input_dict = {k:v.cpu().detach().numpy() for k,v in zip(ROTATOR_INPUT_LIST,input_tuple)}\n",
    "\n",
    "torch.onnx.export(two_algo_face_body_rotator_wrapped,               # model being run\n",
    "                  input_tuple,                         # model input (or a tuple for multiple inputs)\n",
    "                  ROTATOR_ONNX_MODEL_NAME,   # where to save the model (can be a file or file-like object)\n",
    "                  export_params=True,        # store the trained parameter weights inside the model file\n",
    "                  opset_version=16,          # the ONNX version to export the model to\n",
    "                  do_constant_folding=True,  # whether to execute constant folding for optimization\n",
    "                  input_names = ROTATOR_INPUT_LIST,   # the model's input names\n",
    "                  output_names = ROTATOR_OUTPUT_LIST) \n",
    "\n",
    "onnx_model = onnx.load(ROTATOR_ONNX_MODEL_NAME)\n",
    "onnx.checker.check_model(onnx_model)\n",
    "onnx_model_sim, check = simplify(onnx_model)\n",
    "if check:\n",
    "    onnx.save(onnx_model_sim,ROTATOR_SIM_ONNX_MODEL_NAME)\n",
    "else:\n",
    "    print(\"Simplify error!\")\n",
    "\n",
    "ort_sess_sim = ort.InferenceSession(ROTATOR_SIM_ONNX_MODEL_NAME, sess_options=sess_options, providers=providers)\n",
    "onnx_sim_output = ort_sess_sim.run(None,input_dict)\n",
    "full_warped_image = interpolate(two_algo_face_body_rotator_torch_res[1], size=(512, 512), mode='bilinear', align_corners=False)\n",
    "full_grid_change = interpolate(two_algo_face_body_rotator_torch_res[2], size=(512, 512), mode='bilinear', align_corners=False)\n",
    "\n",
    "printInfo(full_warped_image.cpu().detach().numpy())\n",
    "printInfo(full_grid_change.cpu().detach().numpy())\n",
    "printInfo(onnx_sim_output[0])\n",
    "printInfo(onnx_sim_output[1])\n",
    "print(\"MSE is: \",((onnx_sim_output[0] - full_warped_image.cpu().detach().numpy()) ** 2).mean())\n",
    "print(\"MSE is: \",((onnx_sim_output[1] - full_grid_change.cpu().detach().numpy()) ** 2).mean())\n",
    "onnx.checker.check_model(onnx.load(ROTATOR_SIM_ONNX_MODEL_NAME))"
   ]
  },
  {
   "cell_type": "code",
   "execution_count": 21,
   "id": "995c1c64-492f-46d5-9a25-6da9a5d36b6f",
   "metadata": {
    "scrolled": true
   },
   "outputs": [
    {
     "name": "stdout",
     "output_type": "stream",
     "text": [
      "Name                                                                                                           Type                   Forward_MACs    FPercent    Memory       MPercent    Params     PPercent    InShape        OutShape\n",
      "-------------------------------------------------------------------------------------------------------------  ---------------------  --------------  ----------  -----------  ----------  ---------  ----------  -------------  -------------\n",
      "/two_algo_face_body_rotator/Reshape                                                                            Reshape                0               0.00%       44           0.00%       4          0.00%       1x6            1x6x1x1\n",
      "/two_algo_face_body_rotator/Tile                                                                               Tile                   0               0.00%       786,464      0.36%       4          0.00%       1x6x1x1        1x6x256x256\n",
      "/two_algo_face_body_rotator/Concat                                                                             Concat                 0               0.00%       1,310,720    0.60%       0          0.00%       1x4x256x256    1x10x256x256\n",
      "/two_algo_face_body_rotator/downsample_blocks.0/downsample_blocks.0.0/Conv                                     Conv                   32,112,640      0.55%       1,311,700    0.60%       490        0.01%       1x10x256x256   1x10x256x256\n",
      "/two_algo_face_body_rotator/downsample_blocks.0/downsample_blocks.0.1/Conv                                     Conv                   41,943,040      0.72%       8,389,888    3.82%       640        0.02%       1x10x256x256   1x64x256x256\n",
      "/two_algo_face_body_rotator/downsample_blocks.0/downsample_blocks.0.2/InstanceNormalization                    InstanceNormalization  29,360,128      0.51%       8,388,864    3.82%       128        0.00%       1x64x256x256   1x64x256x256\n",
      "/two_algo_face_body_rotator/downsample_blocks.0/downsample_blocks.0.3/LeakyRelu                                LeakyRelu              8,388,608       0.14%       8,388,608    3.82%       0          0.00%       1x64x256x256   1x64x256x256\n",
      "/two_algo_face_body_rotator/downsample_blocks.1/downsample_blocks.1.0/Conv                                     Conv                   16,777,216      0.29%       2,099,200    0.96%       1,024      0.03%       1x64x256x256   1x64x128x128\n",
      "/two_algo_face_body_rotator/downsample_blocks.1/downsample_blocks.1.1/Conv                                     Conv                   134,217,728     2.31%       4,210,688    1.92%       8,192      0.22%       1x64x128x128   1x128x128x128\n",
      "/two_algo_face_body_rotator/downsample_blocks.1/downsample_blocks.1.2/InstanceNormalization                    InstanceNormalization  14,680,064      0.25%       4,194,816    1.91%       256        0.01%       1x128x128x128  1x128x128x128\n",
      "/two_algo_face_body_rotator/downsample_blocks.1/downsample_blocks.1.3/LeakyRelu                                LeakyRelu              4,194,304       0.07%       4,194,304    1.91%       0          0.00%       1x128x128x128  1x128x128x128\n",
      "/two_algo_face_body_rotator/downsample_blocks.2/downsample_blocks.2.0/Conv                                     Conv                   8,388,608       0.14%       1,052,672    0.48%       2,048      0.06%       1x128x128x128  1x128x64x64\n",
      "/two_algo_face_body_rotator/downsample_blocks.2/downsample_blocks.2.1/Conv                                     Conv                   134,217,728     2.31%       2,162,688    0.98%       32,768     0.88%       1x128x64x64    1x256x64x64\n",
      "/two_algo_face_body_rotator/downsample_blocks.2/downsample_blocks.2.2/InstanceNormalization                    InstanceNormalization  7,340,032       0.13%       2,098,176    0.95%       512        0.01%       1x256x64x64    1x256x64x64\n",
      "/two_algo_face_body_rotator/downsample_blocks.2/downsample_blocks.2.3/LeakyRelu                                LeakyRelu              2,097,152       0.04%       2,097,152    0.95%       0          0.00%       1x256x64x64    1x256x64x64\n",
      "/two_algo_face_body_rotator/downsample_blocks.3/downsample_blocks.3.0/Conv                                     Conv                   4,194,304       0.07%       532,480      0.24%       4,096      0.11%       1x256x64x64    1x256x32x32\n",
      "/two_algo_face_body_rotator/downsample_blocks.3/downsample_blocks.3.1/Conv                                     Conv                   134,217,728     2.31%       1,310,720    0.60%       131,072    3.53%       1x256x32x32    1x512x32x32\n",
      "/two_algo_face_body_rotator/downsample_blocks.3/downsample_blocks.3.2/InstanceNormalization                    InstanceNormalization  3,670,016       0.06%       1,050,624    0.48%       1,024      0.03%       1x512x32x32    1x512x32x32\n",
      "/two_algo_face_body_rotator/downsample_blocks.3/downsample_blocks.3.3/LeakyRelu                                LeakyRelu              1,048,576       0.02%       1,048,576    0.48%       0          0.00%       1x512x32x32    1x512x32x32\n",
      "/two_algo_face_body_rotator/bottleneck_blocks.0/resnet_path/resnet_path.0/resnet_path.0.0/Conv                 Conv                   4,718,592       0.08%       1,057,792    0.48%       4,608      0.12%       1x512x32x32    1x512x32x32\n",
      "/two_algo_face_body_rotator/bottleneck_blocks.0/resnet_path/resnet_path.0/resnet_path.0.1/Conv                 Conv                   268,435,456     4.63%       1,572,864    0.72%       262,144    7.07%       1x512x32x32    1x512x32x32\n",
      "/two_algo_face_body_rotator/bottleneck_blocks.0/resnet_path/resnet_path.1/InstanceNormalization                InstanceNormalization  3,670,016       0.06%       1,050,624    0.48%       1,024      0.03%       1x512x32x32    1x512x32x32\n",
      "/two_algo_face_body_rotator/bottleneck_blocks.0/resnet_path/resnet_path.2/LeakyRelu                            LeakyRelu              1,048,576       0.02%       1,048,576    0.48%       0          0.00%       1x512x32x32    1x512x32x32\n",
      "/two_algo_face_body_rotator/bottleneck_blocks.0/resnet_path/resnet_path.3/resnet_path.3.0/Conv                 Conv                   4,718,592       0.08%       1,057,792    0.48%       4,608      0.12%       1x512x32x32    1x512x32x32\n",
      "/two_algo_face_body_rotator/bottleneck_blocks.0/resnet_path/resnet_path.3/resnet_path.3.1/Conv                 Conv                   268,435,456     4.63%       1,572,864    0.72%       262,144    7.07%       1x512x32x32    1x512x32x32\n",
      "/two_algo_face_body_rotator/bottleneck_blocks.0/resnet_path/resnet_path.4/InstanceNormalization                InstanceNormalization  3,670,016       0.06%       1,050,624    0.48%       1,024      0.03%       1x512x32x32    1x512x32x32\n",
      "/two_algo_face_body_rotator/bottleneck_blocks.0/Add                                                            Add                    524,288         0.01%       1,048,576    0.48%       0          0.00%       1x512x32x32    1x512x32x32\n",
      "/two_algo_face_body_rotator/bottleneck_blocks.1/resnet_path/resnet_path.0/resnet_path.0.0/Conv                 Conv                   4,718,592       0.08%       1,057,792    0.48%       4,608      0.12%       1x512x32x32    1x512x32x32\n",
      "/two_algo_face_body_rotator/bottleneck_blocks.1/resnet_path/resnet_path.0/resnet_path.0.1/Conv                 Conv                   268,435,456     4.63%       1,572,864    0.72%       262,144    7.07%       1x512x32x32    1x512x32x32\n",
      "/two_algo_face_body_rotator/bottleneck_blocks.1/resnet_path/resnet_path.1/InstanceNormalization                InstanceNormalization  3,670,016       0.06%       1,050,624    0.48%       1,024      0.03%       1x512x32x32    1x512x32x32\n",
      "/two_algo_face_body_rotator/bottleneck_blocks.1/resnet_path/resnet_path.2/LeakyRelu                            LeakyRelu              1,048,576       0.02%       1,048,576    0.48%       0          0.00%       1x512x32x32    1x512x32x32\n",
      "/two_algo_face_body_rotator/bottleneck_blocks.1/resnet_path/resnet_path.3/resnet_path.3.0/Conv                 Conv                   4,718,592       0.08%       1,057,792    0.48%       4,608      0.12%       1x512x32x32    1x512x32x32\n",
      "/two_algo_face_body_rotator/bottleneck_blocks.1/resnet_path/resnet_path.3/resnet_path.3.1/Conv                 Conv                   268,435,456     4.63%       1,572,864    0.72%       262,144    7.07%       1x512x32x32    1x512x32x32\n",
      "/two_algo_face_body_rotator/bottleneck_blocks.1/resnet_path/resnet_path.4/InstanceNormalization                InstanceNormalization  3,670,016       0.06%       1,050,624    0.48%       1,024      0.03%       1x512x32x32    1x512x32x32\n",
      "/two_algo_face_body_rotator/bottleneck_blocks.1/Add                                                            Add                    524,288         0.01%       1,048,576    0.48%       0          0.00%       1x512x32x32    1x512x32x32\n",
      "/two_algo_face_body_rotator/bottleneck_blocks.2/resnet_path/resnet_path.0/resnet_path.0.0/Conv                 Conv                   4,718,592       0.08%       1,057,792    0.48%       4,608      0.12%       1x512x32x32    1x512x32x32\n",
      "/two_algo_face_body_rotator/bottleneck_blocks.2/resnet_path/resnet_path.0/resnet_path.0.1/Conv                 Conv                   268,435,456     4.63%       1,572,864    0.72%       262,144    7.07%       1x512x32x32    1x512x32x32\n",
      "/two_algo_face_body_rotator/bottleneck_blocks.2/resnet_path/resnet_path.1/InstanceNormalization                InstanceNormalization  3,670,016       0.06%       1,050,624    0.48%       1,024      0.03%       1x512x32x32    1x512x32x32\n",
      "/two_algo_face_body_rotator/bottleneck_blocks.2/resnet_path/resnet_path.2/LeakyRelu                            LeakyRelu              1,048,576       0.02%       1,048,576    0.48%       0          0.00%       1x512x32x32    1x512x32x32\n",
      "/two_algo_face_body_rotator/bottleneck_blocks.2/resnet_path/resnet_path.3/resnet_path.3.0/Conv                 Conv                   4,718,592       0.08%       1,057,792    0.48%       4,608      0.12%       1x512x32x32    1x512x32x32\n",
      "/two_algo_face_body_rotator/bottleneck_blocks.2/resnet_path/resnet_path.3/resnet_path.3.1/Conv                 Conv                   268,435,456     4.63%       1,572,864    0.72%       262,144    7.07%       1x512x32x32    1x512x32x32\n",
      "/two_algo_face_body_rotator/bottleneck_blocks.2/resnet_path/resnet_path.4/InstanceNormalization                InstanceNormalization  3,670,016       0.06%       1,050,624    0.48%       1,024      0.03%       1x512x32x32    1x512x32x32\n",
      "/two_algo_face_body_rotator/bottleneck_blocks.2/Add                                                            Add                    524,288         0.01%       1,048,576    0.48%       0          0.00%       1x512x32x32    1x512x32x32\n",
      "/two_algo_face_body_rotator/bottleneck_blocks.3/resnet_path/resnet_path.0/resnet_path.0.0/Conv                 Conv                   4,718,592       0.08%       1,057,792    0.48%       4,608      0.12%       1x512x32x32    1x512x32x32\n",
      "/two_algo_face_body_rotator/bottleneck_blocks.3/resnet_path/resnet_path.0/resnet_path.0.1/Conv                 Conv                   268,435,456     4.63%       1,572,864    0.72%       262,144    7.07%       1x512x32x32    1x512x32x32\n",
      "/two_algo_face_body_rotator/bottleneck_blocks.3/resnet_path/resnet_path.1/InstanceNormalization                InstanceNormalization  3,670,016       0.06%       1,050,624    0.48%       1,024      0.03%       1x512x32x32    1x512x32x32\n",
      "/two_algo_face_body_rotator/bottleneck_blocks.3/resnet_path/resnet_path.2/LeakyRelu                            LeakyRelu              1,048,576       0.02%       1,048,576    0.48%       0          0.00%       1x512x32x32    1x512x32x32\n",
      "/two_algo_face_body_rotator/bottleneck_blocks.3/resnet_path/resnet_path.3/resnet_path.3.0/Conv                 Conv                   4,718,592       0.08%       1,057,792    0.48%       4,608      0.12%       1x512x32x32    1x512x32x32\n",
      "/two_algo_face_body_rotator/bottleneck_blocks.3/resnet_path/resnet_path.3/resnet_path.3.1/Conv                 Conv                   268,435,456     4.63%       1,572,864    0.72%       262,144    7.07%       1x512x32x32    1x512x32x32\n",
      "/two_algo_face_body_rotator/bottleneck_blocks.3/resnet_path/resnet_path.4/InstanceNormalization                InstanceNormalization  3,670,016       0.06%       1,050,624    0.48%       1,024      0.03%       1x512x32x32    1x512x32x32\n",
      "/two_algo_face_body_rotator/bottleneck_blocks.3/Add                                                            Add                    524,288         0.01%       1,048,576    0.48%       0          0.00%       1x512x32x32    1x512x32x32\n",
      "/two_algo_face_body_rotator/bottleneck_blocks.4/resnet_path/resnet_path.0/resnet_path.0.0/Conv                 Conv                   4,718,592       0.08%       1,057,792    0.48%       4,608      0.12%       1x512x32x32    1x512x32x32\n",
      "/two_algo_face_body_rotator/bottleneck_blocks.4/resnet_path/resnet_path.0/resnet_path.0.1/Conv                 Conv                   268,435,456     4.63%       1,572,864    0.72%       262,144    7.07%       1x512x32x32    1x512x32x32\n",
      "/two_algo_face_body_rotator/bottleneck_blocks.4/resnet_path/resnet_path.1/InstanceNormalization                InstanceNormalization  3,670,016       0.06%       1,050,624    0.48%       1,024      0.03%       1x512x32x32    1x512x32x32\n",
      "/two_algo_face_body_rotator/bottleneck_blocks.4/resnet_path/resnet_path.2/LeakyRelu                            LeakyRelu              1,048,576       0.02%       1,048,576    0.48%       0          0.00%       1x512x32x32    1x512x32x32\n",
      "/two_algo_face_body_rotator/bottleneck_blocks.4/resnet_path/resnet_path.3/resnet_path.3.0/Conv                 Conv                   4,718,592       0.08%       1,057,792    0.48%       4,608      0.12%       1x512x32x32    1x512x32x32\n",
      "/two_algo_face_body_rotator/bottleneck_blocks.4/resnet_path/resnet_path.3/resnet_path.3.1/Conv                 Conv                   268,435,456     4.63%       1,572,864    0.72%       262,144    7.07%       1x512x32x32    1x512x32x32\n",
      "/two_algo_face_body_rotator/bottleneck_blocks.4/resnet_path/resnet_path.4/InstanceNormalization                InstanceNormalization  3,670,016       0.06%       1,050,624    0.48%       1,024      0.03%       1x512x32x32    1x512x32x32\n",
      "/two_algo_face_body_rotator/bottleneck_blocks.4/Add                                                            Add                    524,288         0.01%       1,048,576    0.48%       0          0.00%       1x512x32x32    1x512x32x32\n",
      "/two_algo_face_body_rotator/bottleneck_blocks.5/resnet_path/resnet_path.0/resnet_path.0.0/Conv                 Conv                   4,718,592       0.08%       1,057,792    0.48%       4,608      0.12%       1x512x32x32    1x512x32x32\n",
      "/two_algo_face_body_rotator/bottleneck_blocks.5/resnet_path/resnet_path.0/resnet_path.0.1/Conv                 Conv                   268,435,456     4.63%       1,572,864    0.72%       262,144    7.07%       1x512x32x32    1x512x32x32\n",
      "/two_algo_face_body_rotator/bottleneck_blocks.5/resnet_path/resnet_path.1/InstanceNormalization                InstanceNormalization  3,670,016       0.06%       1,050,624    0.48%       1,024      0.03%       1x512x32x32    1x512x32x32\n",
      "/two_algo_face_body_rotator/bottleneck_blocks.5/resnet_path/resnet_path.2/LeakyRelu                            LeakyRelu              1,048,576       0.02%       1,048,576    0.48%       0          0.00%       1x512x32x32    1x512x32x32\n",
      "/two_algo_face_body_rotator/bottleneck_blocks.5/resnet_path/resnet_path.3/resnet_path.3.0/Conv                 Conv                   4,718,592       0.08%       1,057,792    0.48%       4,608      0.12%       1x512x32x32    1x512x32x32\n",
      "/two_algo_face_body_rotator/bottleneck_blocks.5/resnet_path/resnet_path.3/resnet_path.3.1/Conv                 Conv                   268,435,456     4.63%       1,572,864    0.72%       262,144    7.07%       1x512x32x32    1x512x32x32\n",
      "/two_algo_face_body_rotator/bottleneck_blocks.5/resnet_path/resnet_path.4/InstanceNormalization                InstanceNormalization  3,670,016       0.06%       1,050,624    0.48%       1,024      0.03%       1x512x32x32    1x512x32x32\n",
      "/two_algo_face_body_rotator/bottleneck_blocks.5/Add                                                            Add                    524,288         0.01%       1,048,576    0.48%       0          0.00%       1x512x32x32    1x512x32x32\n",
      "/two_algo_face_body_rotator/upsample_blocks.0/upsample_blocks.0.0/Resize                                       Resize                 0               0.00%       4,194,320    1.91%       4          0.00%       1x512x32x32    1x512x64x64\n",
      "/two_algo_face_body_rotator/upsample_blocks.0/upsample_blocks.0.1/upsample_blocks.0.1.0/Conv                   Conv                   18,874,368      0.33%       4,203,520    1.91%       4,608      0.12%       1x512x64x64    1x512x64x64\n",
      "/two_algo_face_body_rotator/upsample_blocks.0/upsample_blocks.0.1/upsample_blocks.0.1.1/Conv                   Conv                   536,870,912     9.26%       2,359,296    1.07%       131,072    3.53%       1x512x64x64    1x256x64x64\n",
      "/two_algo_face_body_rotator/upsample_blocks.0/upsample_blocks.0.1/upsample_blocks.0.1.2/InstanceNormalization  InstanceNormalization  7,340,032       0.13%       2,098,176    0.95%       512        0.01%       1x256x64x64    1x256x64x64\n",
      "/two_algo_face_body_rotator/upsample_blocks.0/upsample_blocks.0.1/upsample_blocks.0.1.3/LeakyRelu              LeakyRelu              2,097,152       0.04%       2,097,152    0.95%       0          0.00%       1x256x64x64    1x256x64x64\n",
      "/two_algo_face_body_rotator/upsample_blocks.1/upsample_blocks.1.0/Resize                                       Resize                 0               0.00%       8,388,608    3.82%       0          0.00%       1x256x64x64    1x256x128x128\n",
      "/two_algo_face_body_rotator/upsample_blocks.1/upsample_blocks.1.1/upsample_blocks.1.1.0/Conv                   Conv                   37,748,736      0.65%       8,393,216    3.82%       2,304      0.06%       1x256x128x128  1x256x128x128\n",
      "/two_algo_face_body_rotator/upsample_blocks.1/upsample_blocks.1.1/upsample_blocks.1.1.1/Conv                   Conv                   536,870,912     9.26%       4,259,840    1.94%       32,768     0.88%       1x256x128x128  1x128x128x128\n",
      "/two_algo_face_body_rotator/upsample_blocks.1/upsample_blocks.1.1/upsample_blocks.1.1.2/InstanceNormalization  InstanceNormalization  14,680,064      0.25%       4,194,816    1.91%       256        0.01%       1x128x128x128  1x128x128x128\n",
      "/two_algo_face_body_rotator/upsample_blocks.1/upsample_blocks.1.1/upsample_blocks.1.1.3/LeakyRelu              LeakyRelu              4,194,304       0.07%       4,194,304    1.91%       0          0.00%       1x128x128x128  1x128x128x128\n",
      "/two_algo_face_body_rotator/upsample_blocks.2/upsample_blocks.2.0/Resize                                       Resize                 0               0.00%       16,777,216   7.63%       0          0.00%       1x128x128x128  1x128x256x256\n",
      "/two_algo_face_body_rotator/upsample_blocks.2/upsample_blocks.2.1/upsample_blocks.2.1.0/Conv                   Conv                   75,497,472      1.30%       16,779,520   7.64%       1,152      0.03%       1x128x256x256  1x128x256x256\n",
      "/two_algo_face_body_rotator/upsample_blocks.2/upsample_blocks.2.1/upsample_blocks.2.1.1/Conv                   Conv                   536,870,912     9.26%       8,404,992    3.82%       8,192      0.22%       1x128x256x256  1x64x256x256\n",
      "/two_algo_face_body_rotator/upsample_blocks.2/upsample_blocks.2.1/upsample_blocks.2.1.2/InstanceNormalization  InstanceNormalization  29,360,128      0.51%       8,388,864    3.82%       128        0.00%       1x64x256x256   1x64x256x256\n",
      "/two_algo_face_body_rotator/upsample_blocks.2/upsample_blocks.2.1/upsample_blocks.2.1.3/LeakyRelu              LeakyRelu              8,388,608       0.14%       8,388,608    3.82%       0          0.00%       1x64x256x256   1x64x256x256\n",
      "/two_algo_face_body_rotator/grid_change_creator/Conv                                                           Conv                   75,497,472      1.30%       264,448      0.12%       1,152      0.03%       1x64x256x256   1x2x256x256\n",
      "/two_algo_face_body_rotator/Reshape_1                                                                          Reshape                0               0.00%       262,168      0.12%       3          0.00%       1x2x256x256    1x2x65536\n",
      "/Resize_1                                                                                                      Resize                 2,097,152       0.04%       1,048,608    0.48%       4          0.00%       1x2x256x256    1x2x512x512\n",
      "/two_algo_face_body_rotator/Transpose                                                                          Transpose              0               0.00%       262,144      0.12%       0          0.00%       1x2x65536      1x65536x2\n",
      "/two_algo_face_body_rotator/Reshape_2                                                                          Reshape                0               0.00%       262,176      0.12%       4          0.00%       1x65536x2      1x256x256x2\n",
      "/two_algo_face_body_rotator/Add                                                                                Add                    131,072         0.00%       524,288      0.24%       131,072    3.53%       1x256x256x2    1x256x256x2\n",
      "/two_algo_face_body_rotator/GridSample                                                                         GridSample             0               0.00%       524,288      0.24%       0          0.00%       1x4x256x256    1x4x256x256\n",
      "/Resize                                                                                                        Resize                 4,194,304       0.07%       2,097,184    0.95%       4          0.00%       1x4x256x256    1x4x512x512\n",
      "Total                                                                                                          _                      5,798,887,424   100%        219,754,408  100%        3,708,805  100%        _              _\n"
     ]
    }
   ],
   "source": [
    "onnx_tool.model_profile(ROTATOR_SIM_ONNX_MODEL_NAME, None, None)"
   ]
  },
  {
   "cell_type": "code",
   "execution_count": 22,
   "id": "718fa65b-9aff-45d2-864e-f38105bbc128",
   "metadata": {},
   "outputs": [],
   "source": [
    "editor_torch_res = editor(face_morphed_full, \n",
    "                          full_warped_image, \n",
    "                          full_grid_change, \n",
    "                          rotation_pose_zero)\n",
    "class EditorWrapped(Module):\n",
    "    def __init__(self, editor_obj):\n",
    "        super().__init__()\n",
    "        self.editor = editor_obj\n",
    "    def forward(self,\n",
    "                morphed_image: Tensor,\n",
    "                rotated_warped_image: Tensor,\n",
    "                rotated_grid_change: Tensor,\n",
    "                pose: Tensor,\n",
    "                *args) -> List[Tensor]:\n",
    "        res = self.editor(morphed_image, rotated_warped_image, rotated_grid_change, pose)[0]\n",
    "        return res.reshape(4, 512 * 512).transpose(0,1).reshape(512,512,4)\n",
    "editor_wrapped = EditorWrapped(editor)\n",
    "editor_wrapped_torch_res = editor_wrapped(face_morpher_wrapped_torch_res[0], \n",
    "                                          rotator_wrapped_torch_res[0], \n",
    "                                          rotator_wrapped_torch_res[1], \n",
    "                                          rotation_pose_zero)\n",
    "\n",
    "EDITOR_ONNX_MODEL_NAME = 'editor.onnx'\n",
    "EDITOR_SIM_ONNX_MODEL_NAME = 'editor_sim.onnx'\n",
    "\n",
    "EDITOR_OUTPUT_LIST = ['result']\n",
    "EDITOR_INPUT_LIST = ['morphed_image', 'rotated_warped_image','rotated_grid_change','rotation_pose']\n",
    "input_tuple = (face_morpher_wrapped_torch_res[0], \n",
    "                          rotator_wrapped_torch_res[0], \n",
    "                          rotator_wrapped_torch_res[1], \n",
    "                          rotation_pose_zero)\n",
    "input_dict = {k:v.cpu().detach().numpy() for k,v in zip(EDITOR_INPUT_LIST,input_tuple)}\n",
    "\n",
    "torch.onnx.export(editor_wrapped,               # model being run\n",
    "                  input_tuple,                         # model input (or a tuple for multiple inputs)\n",
    "                  EDITOR_ONNX_MODEL_NAME,   # where to save the model (can be a file or file-like object)\n",
    "                  export_params=True,        # store the trained parameter weights inside the model file\n",
    "                  opset_version=16,          # the ONNX version to export the model to\n",
    "                  do_constant_folding=True,  # whether to execute constant folding for optimization\n",
    "                  input_names = EDITOR_INPUT_LIST,   # the model's input names\n",
    "                  output_names = EDITOR_OUTPUT_LIST) \n",
    "\n",
    "onnx_model = onnx.load(EDITOR_ONNX_MODEL_NAME)\n",
    "onnx.checker.check_model(onnx_model)\n",
    "onnx_model_sim, check = simplify(onnx_model)\n",
    "if check:\n",
    "    onnx.save(onnx_model_sim,EDITOR_SIM_ONNX_MODEL_NAME)\n",
    "else:\n",
    "    print(\"Simplify error!\")\n",
    "\n",
    "ort_sess_sim = ort.InferenceSession(EDITOR_SIM_ONNX_MODEL_NAME, sess_options=sess_options, providers=providers)\n",
    "onnx_sim_output = ort_sess_sim.run(None,input_dict)"
   ]
  },
  {
   "cell_type": "code",
   "execution_count": 23,
   "id": "e48ef646-ab9d-49c5-a90c-ae9e807205e6",
   "metadata": {},
   "outputs": [
    {
     "name": "stdout",
     "output_type": "stream",
     "text": [
      "float16 (512, 512, 4) 1.0 -1.0 -0.868\n",
      "float16 (512, 512, 4) 1.0 -1.0 -0.868\n",
      "MSE is:  9.7e-06\n"
     ]
    }
   ],
   "source": [
    "printInfo(onnx_sim_output[0])\n",
    "poser_res = editor_torch_res[0].reshape(4, 512 * 512).transpose(0,1).reshape(512,512,4).cpu().detach().numpy()\n",
    "printInfo(poser_res)\n",
    "print(\"MSE is: \",((onnx_sim_output[0] - poser_res) ** 2).mean())"
   ]
  },
  {
   "cell_type": "code",
   "execution_count": 24,
   "id": "43ed0905-d243-4356-abb3-7f35d127dc71",
   "metadata": {},
   "outputs": [],
   "source": [
    "from PIL import Image\n",
    "def saveImg(path:str, arry):\n",
    "    resImg = ((arry/2.0 + 0.5)*255).astype('uint8')\n",
    "    Image.fromarray(resImg).convert('RGB').save(path)"
   ]
  },
  {
   "cell_type": "code",
   "execution_count": 25,
   "id": "f1a5e696-303d-46e4-9e71-62c13cb412b4",
   "metadata": {},
   "outputs": [],
   "source": [
    "saveImg('ref.png', poser_res)\n",
    "saveImg('test.png', onnx_sim_output[0])"
   ]
  },
  {
   "cell_type": "code",
   "execution_count": 26,
   "id": "b638d481-58bd-48e2-bfc2-d9ac48acf486",
   "metadata": {},
   "outputs": [
    {
     "data": {
      "text/plain": [
       "['eyebrow_decomposer_sim.onnx',\n",
       " 'eyebrow_morphing_combiner_new.onnx',\n",
       " 'face_morpher_new.onnx',\n",
       " 'two_algo_face_body_rotator_sim.onnx',\n",
       " 'editor_sim.onnx']"
      ]
     },
     "execution_count": 26,
     "metadata": {},
     "output_type": "execute_result"
    }
   ],
   "source": [
    "# So far model sequanse is :\n",
    "[\n",
    "    \"eyebrow_decomposer_sim.onnx\",\n",
    "    'eyebrow_morphing_combiner_new.onnx',\n",
    "    'face_morpher_new.onnx',\n",
    "    'two_algo_face_body_rotator_sim.onnx',\n",
    "    'editor_sim.onnx'\n",
    "]"
   ]
  },
  {
   "cell_type": "code",
   "execution_count": 27,
   "id": "046ca880-bbb8-4abf-bd22-26413207a3a8",
   "metadata": {},
   "outputs": [
    {
     "name": "stderr",
     "output_type": "stream",
     "text": [
      "F:\\Anaconda\\envs\\talking-head-anime-3-dev\\lib\\site-packages\\numpy\\core\\fromnumeric.py:86: RuntimeWarning: overflow encountered in reduce\n",
      "  return ufunc.reduce(obj, axis, dtype, out, **passkwargs)\n"
     ]
    },
    {
     "name": "stdout",
     "output_type": "stream",
     "text": [
      "float16 (512, 512, 4) 1.0 -1.0 -0.868 -inf\n",
      "float16 (512, 512, 4) 1.0 -1.0 -0.868 -inf\n",
      "MSE is:  1.85e-05\n"
     ]
    },
    {
     "data": {
      "text/plain": [
       "<__main__.RunTest at 0x1c7c9aeb100>"
      ]
     },
     "execution_count": 27,
     "metadata": {},
     "output_type": "execute_result"
    }
   ],
   "source": [
    "class RunTest():\n",
    "    def __init__(self, img = None, ref = None):\n",
    "        if HALF:\n",
    "            self.dtype = np.float16\n",
    "        else:\n",
    "            self.dtype = np.float32\n",
    "        self.decomposer_sess = ort.InferenceSession(\"eyebrow_decomposer_sim.onnx\", sess_options=sess_options, providers=providers)\n",
    "        self.combiner_sess = ort.InferenceSession(\"eyebrow_morphing_combiner_new.onnx\", sess_options=sess_options, providers=providers)\n",
    "        self.morpher_sess = ort.InferenceSession(\"face_morpher_new.onnx\", sess_options=sess_options, providers=providers)\n",
    "        self.rotator_sess = ort.InferenceSession(\"two_algo_face_body_rotator_sim.onnx\", sess_options=sess_options, providers=providers)\n",
    "        self.editor_sess = ort.InferenceSession(\"editor_sim.onnx\", sess_options=sess_options, providers=providers)\n",
    "        if img == None:\n",
    "            self.img = np.random.rand(1, 4, 512, 512).astype(self.dtype) * 2.0 - 1.0\n",
    "        else:\n",
    "            self.img = img.cpu().detach().numpy()\n",
    "        self.eyebrow_pose_zero = np.zeros((1,12), dtype=self.dtype)\n",
    "        self.face_pose_zero = np.zeros((1,27), dtype=self.dtype)\n",
    "        self.rotation_pose_zero = np.zeros((1,6), dtype=self.dtype)\n",
    "\n",
    "        decomposer_res = self.decomposer_sess.run(None, {'input_image':self.img,})\n",
    "        combiner_res = self.combiner_sess.run(None, {'input_image':self.img,\n",
    "                                                     'eyebrow_background_layer': decomposer_res[0],\n",
    "                                                     \"eyebrow_layer\": decomposer_res[1],\n",
    "                                                     'eyebrow_pose':self.eyebrow_pose_zero,})\n",
    "        morpher_res = self.morpher_sess.run(None, {'input_image':self.img,\n",
    "                                                   'im_morpher_crop': combiner_res[0], \n",
    "                                                   'face_pose': self.face_pose_zero,\n",
    "                                                   '/face_morpher/body/downsample_blocks.3/downsample_blocks.3.3/Relu_output_0':combiner_res[1]})\n",
    "        rotator_res = self.rotator_sess.run(None, {'face_morphed_half':morpher_res[1], \n",
    "                                                   'rotation_pose':self.rotation_pose_zero})\n",
    "        editor_res = self.editor_sess.run(None, {'morphed_image':morpher_res[0],\n",
    "                                                 'rotated_warped_image':rotator_res[0],\n",
    "                                                 'rotated_grid_change': rotator_res[1], \n",
    "                                                 'rotation_pose':self.rotation_pose_zero})\n",
    "        if ref != None:\n",
    "            def printInfo(a):\n",
    "                print(a.dtype, a.shape, np.max(a),np.min(a), np.mean(a), np.sum(a))\n",
    "            ref_np = ref.reshape(4, 512 * 512).transpose(0,1).reshape(512,512,4).cpu().detach().numpy()\n",
    "            printInfo(editor_res[0])\n",
    "            printInfo(ref_np)\n",
    "            print(\"MSE is: \",((editor_res[0] - ref_np) ** 2).mean())\n",
    "            from PIL import Image\n",
    "            def saveImg(path:str, arry):\n",
    "                resImg = ((arry/2.0 + 0.5)*255).astype('uint8')\n",
    "                Image.fromarray(resImg).convert('RGB').save(path)\n",
    "            saveImg('test_res.jpg',editor_res[0])\n",
    "            saveImg('ref.jpg', ref_np)\n",
    "RunTest(pt_img, poser_torch_res[0])"
   ]
  }
 ],
 "metadata": {
  "kernelspec": {
   "display_name": "Python 3 (ipykernel)",
   "language": "python",
   "name": "python3"
  },
  "language_info": {
   "codemirror_mode": {
    "name": "ipython",
    "version": 3
   },
   "file_extension": ".py",
   "mimetype": "text/x-python",
   "name": "python",
   "nbconvert_exporter": "python",
   "pygments_lexer": "ipython3",
   "version": "3.8.20"
  }
 },
 "nbformat": 4,
 "nbformat_minor": 5
}
